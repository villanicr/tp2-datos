{
 "cells": [
  {
   "cell_type": "code",
   "execution_count": 15,
   "metadata": {},
   "outputs": [],
   "source": [
    "import pandas as pd\n",
    "import numpy as np\n",
    "import math as mt"
   ]
  },
  {
   "cell_type": "code",
   "execution_count": 16,
   "metadata": {},
   "outputs": [],
   "source": [
    "event_training = pd.read_csv('training.csv')\n",
    "event_test = pd.read_csv('test.csv')\n",
    "training = pd.read_csv('labels_training_set.csv')\n",
    "test = pd.read_csv('trocafone_kaggle_test.csv')"
   ]
  },
  {
   "cell_type": "markdown",
   "metadata": {},
   "source": [
    "# Vamos a agregar algunos features relazionados con el tiempo entre eventos"
   ]
  },
  {
   "cell_type": "markdown",
   "metadata": {},
   "source": [
    "# Primero vamos a calcular el promedio de tiempo entre eventos para cada usuario"
   ]
  },
  {
   "cell_type": "code",
   "execution_count": 17,
   "metadata": {},
   "outputs": [],
   "source": [
    "# creo la columna date, la cual transforma el timestamp en una variable de tiempo\n",
    "event_training['date'] =pd.to_datetime(event_training['timestamp'])"
   ]
  },
  {
   "cell_type": "code",
   "execution_count": 18,
   "metadata": {},
   "outputs": [],
   "source": [
    "def crearColumnaTiempo(dataframe):\n",
    "    person_cant_evento = dataframe.loc[:,['person','timestamp']].groupby('person').count()\\\n",
    "                                .reset_index()\n",
    "    person_cant_evento.columns=['person','count_event']\n",
    "    person_cant_evento_uno = person_cant_evento.loc[person_cant_evento['count_event']==1,:]\n",
    "    person_cant_evento_mas_uno = person_cant_evento.loc[person_cant_evento['count_event']>1,:]\n",
    "    person_cant_evento_uno.columns=['person','mean_time_between_events']\n",
    "    person_cant_evento_uno['mean_time_between_events']=0\n",
    "    tiempos = dataframe.loc[:,['person','date','Unnamed: 0','timestamp']]\\\n",
    "                    .merge(person_cant_evento_mas_uno,on='person',how='inner').sort_values(by='date',ascending=True)\\\n",
    "                         .groupby(['person','date','Unnamed: 0']).count().reset_index()\\\n",
    "                            .drop(['timestamp','count_event'],axis=1)\n",
    "    tiempos['person_aux']=tiempos['person'].shift(-1,axis=0)\n",
    "    tiempos['date_aux']=tiempos['date'].shift(-1,axis=0)\n",
    "    tiempos['bool']=(tiempos['person']==tiempos['person_aux'])\n",
    "    tiempos = tiempos.loc[tiempos['bool']==True,['person','date','date_aux']]\n",
    "    tiempos['dis_time']=(tiempos['date_aux']-tiempos['date']).dt.total_seconds()\n",
    "    tiempos = tiempos.loc[:,['person','dis_time']].groupby('person').mean().reset_index()\n",
    "    tiempos.columns=['person','mean_time_between_events']\n",
    "    event_time = tiempos.merge(person_cant_evento_uno,how='outer',on=['person','mean_time_between_events'])\n",
    "    return event_time"
   ]
  },
  {
   "cell_type": "code",
   "execution_count": 19,
   "metadata": {},
   "outputs": [
    {
     "name": "stderr",
     "output_type": "stream",
     "text": [
      "/home/alfonso/anaconda3/lib/python3.6/site-packages/ipykernel_launcher.py:8: SettingWithCopyWarning: \n",
      "A value is trying to be set on a copy of a slice from a DataFrame.\n",
      "Try using .loc[row_indexer,col_indexer] = value instead\n",
      "\n",
      "See the caveats in the documentation: http://pandas.pydata.org/pandas-docs/stable/indexing.html#indexing-view-versus-copy\n",
      "  \n"
     ]
    }
   ],
   "source": [
    "event_time = crearColumnaTiempo(event_training)"
   ]
  },
  {
   "cell_type": "markdown",
   "metadata": {},
   "source": [
    "# Ahora vamos a calcular el promedio de tiempo entre eventos del mismo tipo para cada usuario, para eso defino la siguiente funcion:"
   ]
  },
  {
   "cell_type": "code",
   "execution_count": 20,
   "metadata": {},
   "outputs": [],
   "source": [
    "def crearColumnaTiempoEvento(dataframe,evento,nombre_columna):  \n",
    "    \n",
    "    person_con = dataframe.groupby('person').filter(lambda x: (x['event']==evento).any())\\\n",
    "            .reset_index(drop=True)\n",
    "    person_sin = dataframe.groupby('person').filter(lambda x: (x['event']!=evento).all())\\\n",
    "            .reset_index(drop=True)\n",
    "\n",
    "    \n",
    "    dis_time_sin = person_sin.loc[:,['person','event']].drop_duplicates(subset='person',keep='first')\n",
    "    dis_time_sin.columns=['person',nombre_columna]\n",
    "    dis_time_sin[nombre_columna]=-1\n",
    "\n",
    "    cant = person_con.loc[person_con['event']==evento,['person','event']].groupby('person')\\\n",
    "                    .count().reset_index()\n",
    "    cant.columns=['person','count']\n",
    "\n",
    "    uno = cant.loc[cant['count']==1,:]\n",
    "    uno.columns=['person',nombre_columna]\n",
    "    uno[nombre_columna]=0\n",
    "    uno = uno.drop_duplicates(keep='first')\n",
    "\n",
    "    #ahora calculo el promedio de tiempo entre 'viewed product' por usuario.\n",
    "    mas_uno = cant.loc[(cant['count']>1),:].merge(dataframe,on='person',how='inner')\n",
    "    mas_uno = mas_uno.loc[mas_uno['event']==evento,['person','date','Unnamed: 0','timestamp']]\\\n",
    "                        .groupby(['person','date','Unnamed: 0'])\\\n",
    "                            .count().reset_index()\\\n",
    "                                .drop('timestamp',axis=1)\n",
    "\n",
    "    mas_uno['date_aux']=mas_uno['date'].shift(-1,axis=0)\n",
    "    mas_uno['person_aux']=mas_uno['person'].shift(-1,axis=0)\n",
    "    mas_uno['bool']=(mas_uno['person_aux']==mas_uno['person'])\n",
    "\n",
    "    mas_uno = mas_uno.loc[mas_uno['bool']==True,['person','date','date_aux']]\n",
    "\n",
    "    mas_uno['time_between']=(mas_uno['date_aux']-mas_uno['date']).dt.total_seconds()\n",
    "    mas_uno = mas_uno.loc[:,['person','time_between']].groupby('person').mean().reset_index()\n",
    "    mas_uno.columns=['person',nombre_columna]\n",
    "\n",
    "    event_time= pd.concat([mas_uno,uno,dis_time_sin])\n",
    "    \n",
    "    return event_time"
   ]
  },
  {
   "cell_type": "code",
   "execution_count": 21,
   "metadata": {},
   "outputs": [
    {
     "name": "stderr",
     "output_type": "stream",
     "text": [
      "/home/alfonso/anaconda3/lib/python3.6/site-packages/ipykernel_launcher.py:19: SettingWithCopyWarning: \n",
      "A value is trying to be set on a copy of a slice from a DataFrame.\n",
      "Try using .loc[row_indexer,col_indexer] = value instead\n",
      "\n",
      "See the caveats in the documentation: http://pandas.pydata.org/pandas-docs/stable/indexing.html#indexing-view-versus-copy\n"
     ]
    }
   ],
   "source": [
    "#creo los dataframe\n",
    "event_time_co = crearColumnaTiempoEvento(event_training,'conversion','mean_time_between_co')\n",
    "event_time_ch = crearColumnaTiempoEvento(event_training,'checkout','mean_time_between_ch')\n",
    "event_time_vs = crearColumnaTiempoEvento(event_training,'visited site','mean_time_between_vs')\n",
    "event_time_ad = crearColumnaTiempoEvento(event_training,'ad campaign hit','mean_time_between_ad')\n",
    "event_time_bl = crearColumnaTiempoEvento(event_training,'brand listing','mean_time_between_bl')\n",
    "event_time_st = crearColumnaTiempoEvento(event_training,'staticpage','mean_time_between_st')\n",
    "event_time_se = crearColumnaTiempoEvento(event_training,'search engine hit','mean_time_between_se')\n",
    "event_time_sp = crearColumnaTiempoEvento(event_training,'searched products','mean_time_between_sp')\n",
    "event_time_vp = crearColumnaTiempoEvento(event_training,'viewed product','mean_time_between_vp')\n",
    "event_time_le = crearColumnaTiempoEvento(event_training,'lead','mean_time_between_le')\n",
    "event_time_gl = crearColumnaTiempoEvento(event_training,'generic listing','mean_time_between_gl')"
   ]
  },
  {
   "cell_type": "code",
   "execution_count": 22,
   "metadata": {},
   "outputs": [],
   "source": [
    "#junto todos los dataframes en uno\n",
    "train_time =  event_time.merge(event_time_co,on='person',how='inner')\\\n",
    "                        .merge(event_time_ch,on='person',how='inner')\\\n",
    "                        .merge(event_time_vs,on='person',how='inner')\\\n",
    "                        .merge(event_time_ad,on='person',how='inner')\\\n",
    "                        .merge(event_time_bl,on='person',how='inner')\\\n",
    "                        .merge(event_time_st,on='person',how='inner')\\\n",
    "                        .merge(event_time_se,on='person',how='inner')\\\n",
    "                        .merge(event_time_sp,on='person',how='inner')\\\n",
    "                        .merge(event_time_vp,on='person',how='inner')\\\n",
    "                        .merge(event_time_le,on='person',how='inner')\\\n",
    "                        .merge(event_time_gl,on='person',how='inner')"
   ]
  },
  {
   "cell_type": "markdown",
   "metadata": {},
   "source": [
    "# paso la transformacion log a las columnas no numericas para normalizar los features"
   ]
  },
  {
   "cell_type": "code",
   "execution_count": 23,
   "metadata": {},
   "outputs": [
    {
     "data": {
      "text/html": [
       "<div>\n",
       "<style scoped>\n",
       "    .dataframe tbody tr th:only-of-type {\n",
       "        vertical-align: middle;\n",
       "    }\n",
       "\n",
       "    .dataframe tbody tr th {\n",
       "        vertical-align: top;\n",
       "    }\n",
       "\n",
       "    .dataframe thead th {\n",
       "        text-align: right;\n",
       "    }\n",
       "</style>\n",
       "<table border=\"1\" class=\"dataframe\">\n",
       "  <thead>\n",
       "    <tr style=\"text-align: right;\">\n",
       "      <th></th>\n",
       "      <th>person</th>\n",
       "      <th>mean_time_between_events</th>\n",
       "      <th>mean_time_between_co</th>\n",
       "      <th>mean_time_between_ch</th>\n",
       "      <th>mean_time_between_vs</th>\n",
       "      <th>mean_time_between_ad</th>\n",
       "      <th>mean_time_between_bl</th>\n",
       "      <th>mean_time_between_st</th>\n",
       "      <th>mean_time_between_se</th>\n",
       "      <th>mean_time_between_sp</th>\n",
       "      <th>mean_time_between_vp</th>\n",
       "      <th>mean_time_between_le</th>\n",
       "      <th>mean_time_between_gl</th>\n",
       "    </tr>\n",
       "  </thead>\n",
       "  <tbody>\n",
       "    <tr>\n",
       "      <th>0</th>\n",
       "      <td>0008ed71</td>\n",
       "      <td>2890.000000</td>\n",
       "      <td>-1.0</td>\n",
       "      <td>7225.0</td>\n",
       "      <td>9415.000000</td>\n",
       "      <td>-1.000000</td>\n",
       "      <td>-1.000000</td>\n",
       "      <td>-1.0</td>\n",
       "      <td>-1.00</td>\n",
       "      <td>-1.000000</td>\n",
       "      <td>-1.000000</td>\n",
       "      <td>-1.0</td>\n",
       "      <td>0.000000</td>\n",
       "    </tr>\n",
       "    <tr>\n",
       "      <th>1</th>\n",
       "      <td>000c79fe</td>\n",
       "      <td>38.750000</td>\n",
       "      <td>-1.0</td>\n",
       "      <td>0.0</td>\n",
       "      <td>0.000000</td>\n",
       "      <td>0.000000</td>\n",
       "      <td>-1.000000</td>\n",
       "      <td>-1.0</td>\n",
       "      <td>0.00</td>\n",
       "      <td>75.375000</td>\n",
       "      <td>214.500000</td>\n",
       "      <td>-1.0</td>\n",
       "      <td>0.000000</td>\n",
       "    </tr>\n",
       "    <tr>\n",
       "      <th>2</th>\n",
       "      <td>001802e4</td>\n",
       "      <td>35.888889</td>\n",
       "      <td>-1.0</td>\n",
       "      <td>0.0</td>\n",
       "      <td>0.000000</td>\n",
       "      <td>161.250000</td>\n",
       "      <td>-1.000000</td>\n",
       "      <td>-1.0</td>\n",
       "      <td>-1.00</td>\n",
       "      <td>21.333333</td>\n",
       "      <td>184.666667</td>\n",
       "      <td>-1.0</td>\n",
       "      <td>78.000000</td>\n",
       "    </tr>\n",
       "    <tr>\n",
       "      <th>3</th>\n",
       "      <td>0019e639</td>\n",
       "      <td>21016.589362</td>\n",
       "      <td>8838590.0</td>\n",
       "      <td>631371.0</td>\n",
       "      <td>548744.277778</td>\n",
       "      <td>352764.178571</td>\n",
       "      <td>60092.560976</td>\n",
       "      <td>-1.0</td>\n",
       "      <td>821093.75</td>\n",
       "      <td>881409.000000</td>\n",
       "      <td>52541.218085</td>\n",
       "      <td>-1.0</td>\n",
       "      <td>365842.703704</td>\n",
       "    </tr>\n",
       "    <tr>\n",
       "      <th>4</th>\n",
       "      <td>001b0bf9</td>\n",
       "      <td>153.000000</td>\n",
       "      <td>0.0</td>\n",
       "      <td>262.0</td>\n",
       "      <td>-1.000000</td>\n",
       "      <td>-1.000000</td>\n",
       "      <td>0.000000</td>\n",
       "      <td>-1.0</td>\n",
       "      <td>-1.00</td>\n",
       "      <td>-1.000000</td>\n",
       "      <td>10.000000</td>\n",
       "      <td>-1.0</td>\n",
       "      <td>0.000000</td>\n",
       "    </tr>\n",
       "  </tbody>\n",
       "</table>\n",
       "</div>"
      ],
      "text/plain": [
       "     person  mean_time_between_events  mean_time_between_co  \\\n",
       "0  0008ed71               2890.000000                  -1.0   \n",
       "1  000c79fe                 38.750000                  -1.0   \n",
       "2  001802e4                 35.888889                  -1.0   \n",
       "3  0019e639              21016.589362             8838590.0   \n",
       "4  001b0bf9                153.000000                   0.0   \n",
       "\n",
       "   mean_time_between_ch  mean_time_between_vs  mean_time_between_ad  \\\n",
       "0                7225.0           9415.000000             -1.000000   \n",
       "1                   0.0              0.000000              0.000000   \n",
       "2                   0.0              0.000000            161.250000   \n",
       "3              631371.0         548744.277778         352764.178571   \n",
       "4                 262.0             -1.000000             -1.000000   \n",
       "\n",
       "   mean_time_between_bl  mean_time_between_st  mean_time_between_se  \\\n",
       "0             -1.000000                  -1.0                 -1.00   \n",
       "1             -1.000000                  -1.0                  0.00   \n",
       "2             -1.000000                  -1.0                 -1.00   \n",
       "3          60092.560976                  -1.0             821093.75   \n",
       "4              0.000000                  -1.0                 -1.00   \n",
       "\n",
       "   mean_time_between_sp  mean_time_between_vp  mean_time_between_le  \\\n",
       "0             -1.000000             -1.000000                  -1.0   \n",
       "1             75.375000            214.500000                  -1.0   \n",
       "2             21.333333            184.666667                  -1.0   \n",
       "3         881409.000000          52541.218085                  -1.0   \n",
       "4             -1.000000             10.000000                  -1.0   \n",
       "\n",
       "   mean_time_between_gl  \n",
       "0              0.000000  \n",
       "1              0.000000  \n",
       "2             78.000000  \n",
       "3         365842.703704  \n",
       "4              0.000000  "
      ]
     },
     "execution_count": 23,
     "metadata": {},
     "output_type": "execute_result"
    }
   ],
   "source": [
    "train_time.head()"
   ]
  },
  {
   "cell_type": "code",
   "execution_count": 24,
   "metadata": {},
   "outputs": [],
   "source": [
    "train_time['mean_time_between_co'] = train_time['mean_time_between_co']\\\n",
    "                    .transform(lambda x: mt.log10(x) if (x > 0.0 ) else x )\n",
    "train_time['mean_time_between_ch'] = train_time['mean_time_between_ch']\\\n",
    "                    .transform(lambda x: mt.log10(x) if (x > 0.0 ) else x )\n",
    "train_time['mean_time_between_ad'] = train_time['mean_time_between_ad']\\\n",
    "                    .transform(lambda x: mt.log10(x) if (x > 0.0 ) else x )\n",
    "train_time['mean_time_between_le'] = train_time['mean_time_between_le']\\\n",
    "                    .transform(lambda x: mt.log10(x) if (x > 0.0 ) else x )\n",
    "train_time['mean_time_between_vs'] = train_time['mean_time_between_vs']\\\n",
    "                    .transform(lambda x: mt.log10(x) if (x > 0.0 ) else x )\n",
    "train_time['mean_time_between_vp'] = train_time['mean_time_between_vp']\\\n",
    "                    .transform(lambda x: mt.log10(x) if (x > 0.0 ) else x )\n",
    "train_time['mean_time_between_events'] = train_time['mean_time_between_events']\\\n",
    "                    .transform(lambda x: mt.log10(x) if (x > 0.0 ) else x )\n",
    "train_time['mean_time_between_st'] = train_time['mean_time_between_st']\\\n",
    "                    .transform(lambda x: mt.log10(x) if (x > 0.0 ) else x )\n",
    "train_time['mean_time_between_gl'] = train_time['mean_time_between_gl']\\\n",
    "                    .transform(lambda x: mt.log10(x) if (x > 0.0 ) else x )\n",
    "train_time['mean_time_between_bl'] = train_time['mean_time_between_bl']\\\n",
    "                    .transform(lambda x: mt.log10(x) if (x > 0.0 ) else x )\n",
    "train_time['mean_time_between_se'] = train_time['mean_time_between_se']\\\n",
    "                    .transform(lambda x: mt.log10(x) if (x > 0.0 ) else x )\n",
    "train_time['mean_time_between_sp'] = train_time['mean_time_between_sp']\\\n",
    "                    .transform(lambda x: mt.log10(x) if (x > 0.0 ) else x )"
   ]
  },
  {
   "cell_type": "code",
   "execution_count": 25,
   "metadata": {},
   "outputs": [
    {
     "data": {
      "text/html": [
       "<div>\n",
       "<style scoped>\n",
       "    .dataframe tbody tr th:only-of-type {\n",
       "        vertical-align: middle;\n",
       "    }\n",
       "\n",
       "    .dataframe tbody tr th {\n",
       "        vertical-align: top;\n",
       "    }\n",
       "\n",
       "    .dataframe thead th {\n",
       "        text-align: right;\n",
       "    }\n",
       "</style>\n",
       "<table border=\"1\" class=\"dataframe\">\n",
       "  <thead>\n",
       "    <tr style=\"text-align: right;\">\n",
       "      <th></th>\n",
       "      <th>person</th>\n",
       "      <th>mean_time_between_events</th>\n",
       "      <th>mean_time_between_co</th>\n",
       "      <th>mean_time_between_ch</th>\n",
       "      <th>mean_time_between_vs</th>\n",
       "      <th>mean_time_between_ad</th>\n",
       "      <th>mean_time_between_bl</th>\n",
       "      <th>mean_time_between_st</th>\n",
       "      <th>mean_time_between_se</th>\n",
       "      <th>mean_time_between_sp</th>\n",
       "      <th>mean_time_between_vp</th>\n",
       "      <th>mean_time_between_le</th>\n",
       "      <th>mean_time_between_gl</th>\n",
       "    </tr>\n",
       "  </thead>\n",
       "  <tbody>\n",
       "    <tr>\n",
       "      <th>0</th>\n",
       "      <td>0008ed71</td>\n",
       "      <td>3.460898</td>\n",
       "      <td>-1.000000</td>\n",
       "      <td>3.858838</td>\n",
       "      <td>3.97382</td>\n",
       "      <td>-1.000000</td>\n",
       "      <td>-1.000000</td>\n",
       "      <td>-1.0</td>\n",
       "      <td>-1.000000</td>\n",
       "      <td>-1.000000</td>\n",
       "      <td>-1.000000</td>\n",
       "      <td>-1.0</td>\n",
       "      <td>0.000000</td>\n",
       "    </tr>\n",
       "    <tr>\n",
       "      <th>1</th>\n",
       "      <td>000c79fe</td>\n",
       "      <td>1.588272</td>\n",
       "      <td>-1.000000</td>\n",
       "      <td>0.000000</td>\n",
       "      <td>0.00000</td>\n",
       "      <td>0.000000</td>\n",
       "      <td>-1.000000</td>\n",
       "      <td>-1.0</td>\n",
       "      <td>0.000000</td>\n",
       "      <td>1.877227</td>\n",
       "      <td>2.331427</td>\n",
       "      <td>-1.0</td>\n",
       "      <td>0.000000</td>\n",
       "    </tr>\n",
       "    <tr>\n",
       "      <th>2</th>\n",
       "      <td>001802e4</td>\n",
       "      <td>1.554960</td>\n",
       "      <td>-1.000000</td>\n",
       "      <td>0.000000</td>\n",
       "      <td>0.00000</td>\n",
       "      <td>2.207500</td>\n",
       "      <td>-1.000000</td>\n",
       "      <td>-1.0</td>\n",
       "      <td>-1.000000</td>\n",
       "      <td>1.329059</td>\n",
       "      <td>2.266389</td>\n",
       "      <td>-1.0</td>\n",
       "      <td>1.892095</td>\n",
       "    </tr>\n",
       "    <tr>\n",
       "      <th>3</th>\n",
       "      <td>0019e639</td>\n",
       "      <td>4.322562</td>\n",
       "      <td>6.946383</td>\n",
       "      <td>5.800285</td>\n",
       "      <td>5.73937</td>\n",
       "      <td>5.547484</td>\n",
       "      <td>4.778821</td>\n",
       "      <td>-1.0</td>\n",
       "      <td>5.914393</td>\n",
       "      <td>5.945177</td>\n",
       "      <td>4.720500</td>\n",
       "      <td>-1.0</td>\n",
       "      <td>5.563294</td>\n",
       "    </tr>\n",
       "    <tr>\n",
       "      <th>4</th>\n",
       "      <td>001b0bf9</td>\n",
       "      <td>2.184691</td>\n",
       "      <td>0.000000</td>\n",
       "      <td>2.418301</td>\n",
       "      <td>-1.00000</td>\n",
       "      <td>-1.000000</td>\n",
       "      <td>0.000000</td>\n",
       "      <td>-1.0</td>\n",
       "      <td>-1.000000</td>\n",
       "      <td>-1.000000</td>\n",
       "      <td>1.000000</td>\n",
       "      <td>-1.0</td>\n",
       "      <td>0.000000</td>\n",
       "    </tr>\n",
       "  </tbody>\n",
       "</table>\n",
       "</div>"
      ],
      "text/plain": [
       "     person  mean_time_between_events  mean_time_between_co  \\\n",
       "0  0008ed71                  3.460898             -1.000000   \n",
       "1  000c79fe                  1.588272             -1.000000   \n",
       "2  001802e4                  1.554960             -1.000000   \n",
       "3  0019e639                  4.322562              6.946383   \n",
       "4  001b0bf9                  2.184691              0.000000   \n",
       "\n",
       "   mean_time_between_ch  mean_time_between_vs  mean_time_between_ad  \\\n",
       "0              3.858838               3.97382             -1.000000   \n",
       "1              0.000000               0.00000              0.000000   \n",
       "2              0.000000               0.00000              2.207500   \n",
       "3              5.800285               5.73937              5.547484   \n",
       "4              2.418301              -1.00000             -1.000000   \n",
       "\n",
       "   mean_time_between_bl  mean_time_between_st  mean_time_between_se  \\\n",
       "0             -1.000000                  -1.0             -1.000000   \n",
       "1             -1.000000                  -1.0              0.000000   \n",
       "2             -1.000000                  -1.0             -1.000000   \n",
       "3              4.778821                  -1.0              5.914393   \n",
       "4              0.000000                  -1.0             -1.000000   \n",
       "\n",
       "   mean_time_between_sp  mean_time_between_vp  mean_time_between_le  \\\n",
       "0             -1.000000             -1.000000                  -1.0   \n",
       "1              1.877227              2.331427                  -1.0   \n",
       "2              1.329059              2.266389                  -1.0   \n",
       "3              5.945177              4.720500                  -1.0   \n",
       "4             -1.000000              1.000000                  -1.0   \n",
       "\n",
       "   mean_time_between_gl  \n",
       "0              0.000000  \n",
       "1              0.000000  \n",
       "2              1.892095  \n",
       "3              5.563294  \n",
       "4              0.000000  "
      ]
     },
     "execution_count": 25,
     "metadata": {},
     "output_type": "execute_result"
    }
   ],
   "source": [
    "train_time.head()"
   ]
  },
  {
   "cell_type": "markdown",
   "metadata": {},
   "source": [
    "# REPITO PARA EL SET DE PREDICCION"
   ]
  },
  {
   "cell_type": "code",
   "execution_count": 26,
   "metadata": {},
   "outputs": [],
   "source": [
    "event_test['date'] =pd.to_datetime(event_test['timestamp'])"
   ]
  },
  {
   "cell_type": "code",
   "execution_count": 27,
   "metadata": {},
   "outputs": [
    {
     "name": "stderr",
     "output_type": "stream",
     "text": [
      "/home/alfonso/anaconda3/lib/python3.6/site-packages/ipykernel_launcher.py:8: SettingWithCopyWarning: \n",
      "A value is trying to be set on a copy of a slice from a DataFrame.\n",
      "Try using .loc[row_indexer,col_indexer] = value instead\n",
      "\n",
      "See the caveats in the documentation: http://pandas.pydata.org/pandas-docs/stable/indexing.html#indexing-view-versus-copy\n",
      "  \n"
     ]
    }
   ],
   "source": [
    "event_time_test = crearColumnaTiempo(event_test)"
   ]
  },
  {
   "cell_type": "code",
   "execution_count": null,
   "metadata": {},
   "outputs": [
    {
     "name": "stderr",
     "output_type": "stream",
     "text": [
      "/home/alfonso/anaconda3/lib/python3.6/site-packages/ipykernel_launcher.py:19: SettingWithCopyWarning: \n",
      "A value is trying to be set on a copy of a slice from a DataFrame.\n",
      "Try using .loc[row_indexer,col_indexer] = value instead\n",
      "\n",
      "See the caveats in the documentation: http://pandas.pydata.org/pandas-docs/stable/indexing.html#indexing-view-versus-copy\n"
     ]
    }
   ],
   "source": [
    "event_time_co_test = crearColumnaTiempoEvento(event_test,'conversion','mean_time_between_co')\n",
    "event_time_ch_test = crearColumnaTiempoEvento(event_test,'checkout','mean_time_between_ch')\n",
    "event_time_vs_test = crearColumnaTiempoEvento(event_test,'visited site','mean_time_between_vs')\n",
    "event_time_ad_test = crearColumnaTiempoEvento(event_test,'ad campaign hit','mean_time_between_ad')\n",
    "event_time_bl_test = crearColumnaTiempoEvento(event_test,'brand listing','mean_time_between_bl')\n",
    "event_time_st_test = crearColumnaTiempoEvento(event_test,'staticpage','mean_time_between_st')\n",
    "event_time_se_test = crearColumnaTiempoEvento(event_test,'search engine hit','mean_time_between_se')\n",
    "event_time_sp_test = crearColumnaTiempoEvento(event_test,'searched products','mean_time_between_sp')\n",
    "event_time_vp_test = crearColumnaTiempoEvento(event_test,'viewed product','mean_time_between_vp')\n",
    "event_time_le_test = crearColumnaTiempoEvento(event_test,'lead','mean_time_between_le')\n",
    "event_time_gl_test = crearColumnaTiempoEvento(event_test,'generic listing','mean_time_between_gl')"
   ]
  },
  {
   "cell_type": "code",
   "execution_count": null,
   "metadata": {},
   "outputs": [],
   "source": [
    "train_time_test =  event_time_test.merge(event_time_co_test,on='person',how='inner')\\\n",
    "                        .merge(event_time_ch_test,on='person',how='inner')\\\n",
    "                        .merge(event_time_vs_test,on='person',how='inner')\\\n",
    "                        .merge(event_time_ad_test,on='person',how='inner')\\\n",
    "                        .merge(event_time_bl_test,on='person',how='inner')\\\n",
    "                        .merge(event_time_st_test,on='person',how='inner')\\\n",
    "                        .merge(event_time_se_test,on='person',how='inner')\\\n",
    "                        .merge(event_time_sp_test,on='person',how='inner')\\\n",
    "                        .merge(event_time_vp_test,on='person',how='inner')\\\n",
    "                        .merge(event_time_le_test,on='person',how='inner')\\\n",
    "                        .merge(event_time_gl_test,on='person',how='inner')"
   ]
  },
  {
   "cell_type": "code",
   "execution_count": null,
   "metadata": {},
   "outputs": [],
   "source": [
    "train_time_test.head()"
   ]
  },
  {
   "cell_type": "code",
   "execution_count": null,
   "metadata": {},
   "outputs": [],
   "source": [
    "train_time_test['mean_time_between_co'] = train_time_test['mean_time_between_co']\\\n",
    "                    .transform(lambda x: mt.log10(x) if (x > 0.0 ) else x )\n",
    "train_time_test['mean_time_between_ch'] = train_time_test['mean_time_between_ch']\\\n",
    "                    .transform(lambda x: mt.log10(x) if (x > 0.0 ) else x )\n",
    "train_time_test['mean_time_between_ad'] = train_time_test['mean_time_between_ad']\\\n",
    "                    .transform(lambda x: mt.log10(x) if (x > 0.0 ) else x )\n",
    "train_time_test['mean_time_between_le'] = train_time_test['mean_time_between_le']\\\n",
    "                    .transform(lambda x: mt.log10(x) if (x > 0.0 ) else x )\n",
    "train_time_test['mean_time_between_vs'] = train_time_test['mean_time_between_vs']\\\n",
    "                    .transform(lambda x: mt.log10(x) if (x > 0.0 ) else x )\n",
    "train_time_test['mean_time_between_vp'] = train_time_test['mean_time_between_vp']\\\n",
    "                    .transform(lambda x: mt.log10(x) if (x > 0.0 ) else x )\n",
    "train_time_test['mean_time_between_events'] = train_time_test['mean_time_between_events']\\\n",
    "                    .transform(lambda x: mt.log10(x) if (x > 0.0 ) else x )\n",
    "train_time_test['mean_time_between_st'] = train_time_test['mean_time_between_st']\\\n",
    "                    .transform(lambda x: mt.log10(x) if (x > 0.0 ) else x )\n",
    "train_time_test['mean_time_between_gl'] = train_time_test['mean_time_between_gl']\\\n",
    "                    .transform(lambda x: mt.log10(x) if (x > 0.0 ) else x )\n",
    "train_time_test['mean_time_between_bl'] = train_time_test['mean_time_between_bl']\\\n",
    "                    .transform(lambda x: mt.log10(x) if (x > 0.0 ) else x )\n",
    "train_time_test['mean_time_between_se'] = train_time_test['mean_time_between_se']\\\n",
    "                    .transform(lambda x: mt.log10(x) if (x > 0.0 ) else x )\n",
    "train_time_test['mean_time_between_sp'] = train_time_test['mean_time_between_sp']\\\n",
    "                    .transform(lambda x: mt.log10(x) if (x > 0.0 ) else x )"
   ]
  },
  {
   "cell_type": "code",
   "execution_count": null,
   "metadata": {},
   "outputs": [],
   "source": [
    "# defino los dataframe que uso para entrenar y predecir\n",
    "features_train = pd.read_csv('train_paso_4.csv')\n",
    "features_test = pd.read_csv('test_paso_4.csv')"
   ]
  },
  {
   "cell_type": "code",
   "execution_count": null,
   "metadata": {},
   "outputs": [],
   "source": [
    "feature_train = training.merge(train_time,on='person',how='inner')\\\n",
    "                .merge(features_train,on=['person','label'],how='inner')\n",
    "feature_test = test.merge(train_time_test,on='person',how='inner').merge(features_test,on='person',how='inner')"
   ]
  },
  {
   "cell_type": "code",
   "execution_count": null,
   "metadata": {},
   "outputs": [],
   "source": [
    "feature_train.head()"
   ]
  },
  {
   "cell_type": "code",
   "execution_count": null,
   "metadata": {},
   "outputs": [],
   "source": [
    "feature_test.head()"
   ]
  },
  {
   "cell_type": "code",
   "execution_count": null,
   "metadata": {},
   "outputs": [],
   "source": [
    "feature_test.to_csv('test_paso_5.csv',index=False)\n",
    "feature_train.to_csv('train_paso_5.csv',index=False)"
   ]
  }
 ],
 "metadata": {
  "kernelspec": {
   "display_name": "Python 3",
   "language": "python",
   "name": "python3"
  }
 },
 "nbformat": 4,
 "nbformat_minor": 2
}
