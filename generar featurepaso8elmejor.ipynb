{
 "cells": [
  {
   "cell_type": "code",
   "execution_count": 1,
   "metadata": {},
   "outputs": [],
   "source": [
    "# importacion general de librerias y de visualizacion (matplotlib y seaborn)\n",
    "import pandas as pd\n",
    "import numpy as np\n",
    "\n",
    "import matplotlib.pyplot as plt\n",
    "import seaborn as sns\n",
    "import calendar\n",
    "\n",
    "%matplotlib inline\n",
    "\n",
    "plt.style.use('default') # haciendo los graficos un poco mas bonitos en matplotlib\n",
    "#plt.rcParams['figure.figsize'] = (20, 10)\n",
    "\n",
    "sns.set(style=\"whitegrid\") # seteando tipo de grid en seaborn\n",
    "\n",
    "pd.options.display.float_format = '{:20,.2f}'.format # suprimimos la notacion cientifica en los outputs\n",
    "\n",
    "import warnings\n",
    "warnings.filterwarnings('ignore')"
   ]
  },
  {
   "cell_type": "code",
   "execution_count": 2,
   "metadata": {},
   "outputs": [],
   "source": [
    "# %timeit sirve para evaluar el tiempo de ejecucion\n",
    "event = pd.read_csv('events_up_to_01062018.csv')\n",
    "label_train = pd.read_csv('labels_training_set.csv')\n",
    "test = pd.read_csv('trocafone_kaggle_test.csv')\n",
    "\n",
    "#projects_2017.head()trocafone_kaggle_test\n",
    "#projects_2017"
   ]
  },
  {
   "cell_type": "code",
   "execution_count": 3,
   "metadata": {},
   "outputs": [],
   "source": [
    "test_con_feature  = pd.read_csv('test_paso_5.csv')\n",
    "train_con_feature = pd.read_csv('train_paso_5.csv')"
   ]
  },
  {
   "cell_type": "code",
   "execution_count": 4,
   "metadata": {},
   "outputs": [
    {
     "data": {
      "text/html": [
       "<div>\n",
       "<style scoped>\n",
       "    .dataframe tbody tr th:only-of-type {\n",
       "        vertical-align: middle;\n",
       "    }\n",
       "\n",
       "    .dataframe tbody tr th {\n",
       "        vertical-align: top;\n",
       "    }\n",
       "\n",
       "    .dataframe thead th {\n",
       "        text-align: right;\n",
       "    }\n",
       "</style>\n",
       "<table border=\"1\" class=\"dataframe\">\n",
       "  <thead>\n",
       "    <tr style=\"text-align: right;\">\n",
       "      <th></th>\n",
       "      <th>timestamp</th>\n",
       "      <th>event</th>\n",
       "      <th>person</th>\n",
       "      <th>url</th>\n",
       "      <th>sku</th>\n",
       "      <th>model</th>\n",
       "      <th>condition</th>\n",
       "      <th>storage</th>\n",
       "      <th>color</th>\n",
       "      <th>skus</th>\n",
       "      <th>...</th>\n",
       "      <th>search_engine</th>\n",
       "      <th>channel</th>\n",
       "      <th>new_vs_returning</th>\n",
       "      <th>city</th>\n",
       "      <th>region</th>\n",
       "      <th>country</th>\n",
       "      <th>device_type</th>\n",
       "      <th>screen_resolution</th>\n",
       "      <th>operating_system_version</th>\n",
       "      <th>browser_version</th>\n",
       "    </tr>\n",
       "  </thead>\n",
       "  <tbody>\n",
       "    <tr>\n",
       "      <th>0</th>\n",
       "      <td>2018-05-18 00:11:59</td>\n",
       "      <td>viewed product</td>\n",
       "      <td>4886f805</td>\n",
       "      <td>NaN</td>\n",
       "      <td>9,288.00</td>\n",
       "      <td>Samsung Galaxy J7 Prime</td>\n",
       "      <td>Excelente</td>\n",
       "      <td>32GB</td>\n",
       "      <td>Dourado</td>\n",
       "      <td>NaN</td>\n",
       "      <td>...</td>\n",
       "      <td>NaN</td>\n",
       "      <td>NaN</td>\n",
       "      <td>NaN</td>\n",
       "      <td>NaN</td>\n",
       "      <td>NaN</td>\n",
       "      <td>NaN</td>\n",
       "      <td>NaN</td>\n",
       "      <td>NaN</td>\n",
       "      <td>NaN</td>\n",
       "      <td>NaN</td>\n",
       "    </tr>\n",
       "    <tr>\n",
       "      <th>1</th>\n",
       "      <td>2018-05-18 00:30:30</td>\n",
       "      <td>viewed product</td>\n",
       "      <td>4886f805</td>\n",
       "      <td>NaN</td>\n",
       "      <td>9,288.00</td>\n",
       "      <td>Samsung Galaxy J7 Prime</td>\n",
       "      <td>Excelente</td>\n",
       "      <td>32GB</td>\n",
       "      <td>Dourado</td>\n",
       "      <td>NaN</td>\n",
       "      <td>...</td>\n",
       "      <td>NaN</td>\n",
       "      <td>NaN</td>\n",
       "      <td>NaN</td>\n",
       "      <td>NaN</td>\n",
       "      <td>NaN</td>\n",
       "      <td>NaN</td>\n",
       "      <td>NaN</td>\n",
       "      <td>NaN</td>\n",
       "      <td>NaN</td>\n",
       "      <td>NaN</td>\n",
       "    </tr>\n",
       "    <tr>\n",
       "      <th>2</th>\n",
       "      <td>2018-05-18 00:07:23</td>\n",
       "      <td>search engine hit</td>\n",
       "      <td>4886f805</td>\n",
       "      <td>NaN</td>\n",
       "      <td>nan</td>\n",
       "      <td>NaN</td>\n",
       "      <td>NaN</td>\n",
       "      <td>NaN</td>\n",
       "      <td>NaN</td>\n",
       "      <td>NaN</td>\n",
       "      <td>...</td>\n",
       "      <td>Google</td>\n",
       "      <td>NaN</td>\n",
       "      <td>NaN</td>\n",
       "      <td>NaN</td>\n",
       "      <td>NaN</td>\n",
       "      <td>NaN</td>\n",
       "      <td>NaN</td>\n",
       "      <td>NaN</td>\n",
       "      <td>NaN</td>\n",
       "      <td>NaN</td>\n",
       "    </tr>\n",
       "    <tr>\n",
       "      <th>3</th>\n",
       "      <td>2018-05-18 00:11:56</td>\n",
       "      <td>checkout</td>\n",
       "      <td>4886f805</td>\n",
       "      <td>NaN</td>\n",
       "      <td>9,288.00</td>\n",
       "      <td>Samsung Galaxy J7 Prime</td>\n",
       "      <td>Excelente</td>\n",
       "      <td>32GB</td>\n",
       "      <td>Dourado</td>\n",
       "      <td>NaN</td>\n",
       "      <td>...</td>\n",
       "      <td>NaN</td>\n",
       "      <td>NaN</td>\n",
       "      <td>NaN</td>\n",
       "      <td>NaN</td>\n",
       "      <td>NaN</td>\n",
       "      <td>NaN</td>\n",
       "      <td>NaN</td>\n",
       "      <td>NaN</td>\n",
       "      <td>NaN</td>\n",
       "      <td>NaN</td>\n",
       "    </tr>\n",
       "    <tr>\n",
       "      <th>4</th>\n",
       "      <td>2018-05-18 00:11:35</td>\n",
       "      <td>viewed product</td>\n",
       "      <td>4886f805</td>\n",
       "      <td>NaN</td>\n",
       "      <td>9,287.00</td>\n",
       "      <td>Samsung Galaxy J7 Prime</td>\n",
       "      <td>Muito Bom</td>\n",
       "      <td>32GB</td>\n",
       "      <td>Dourado</td>\n",
       "      <td>NaN</td>\n",
       "      <td>...</td>\n",
       "      <td>NaN</td>\n",
       "      <td>NaN</td>\n",
       "      <td>NaN</td>\n",
       "      <td>NaN</td>\n",
       "      <td>NaN</td>\n",
       "      <td>NaN</td>\n",
       "      <td>NaN</td>\n",
       "      <td>NaN</td>\n",
       "      <td>NaN</td>\n",
       "      <td>NaN</td>\n",
       "    </tr>\n",
       "  </tbody>\n",
       "</table>\n",
       "<p>5 rows × 23 columns</p>\n",
       "</div>"
      ],
      "text/plain": [
       "             timestamp              event    person  url                  sku  \\\n",
       "0  2018-05-18 00:11:59     viewed product  4886f805  NaN             9,288.00   \n",
       "1  2018-05-18 00:30:30     viewed product  4886f805  NaN             9,288.00   \n",
       "2  2018-05-18 00:07:23  search engine hit  4886f805  NaN                  nan   \n",
       "3  2018-05-18 00:11:56           checkout  4886f805  NaN             9,288.00   \n",
       "4  2018-05-18 00:11:35     viewed product  4886f805  NaN             9,287.00   \n",
       "\n",
       "                     model  condition storage    color skus       ...        \\\n",
       "0  Samsung Galaxy J7 Prime  Excelente    32GB  Dourado  NaN       ...         \n",
       "1  Samsung Galaxy J7 Prime  Excelente    32GB  Dourado  NaN       ...         \n",
       "2                      NaN        NaN     NaN      NaN  NaN       ...         \n",
       "3  Samsung Galaxy J7 Prime  Excelente    32GB  Dourado  NaN       ...         \n",
       "4  Samsung Galaxy J7 Prime  Muito Bom    32GB  Dourado  NaN       ...         \n",
       "\n",
       "  search_engine channel new_vs_returning city region country device_type  \\\n",
       "0           NaN     NaN              NaN  NaN    NaN     NaN         NaN   \n",
       "1           NaN     NaN              NaN  NaN    NaN     NaN         NaN   \n",
       "2        Google     NaN              NaN  NaN    NaN     NaN         NaN   \n",
       "3           NaN     NaN              NaN  NaN    NaN     NaN         NaN   \n",
       "4           NaN     NaN              NaN  NaN    NaN     NaN         NaN   \n",
       "\n",
       "  screen_resolution operating_system_version browser_version  \n",
       "0               NaN                      NaN             NaN  \n",
       "1               NaN                      NaN             NaN  \n",
       "2               NaN                      NaN             NaN  \n",
       "3               NaN                      NaN             NaN  \n",
       "4               NaN                      NaN             NaN  \n",
       "\n",
       "[5 rows x 23 columns]"
      ]
     },
     "execution_count": 4,
     "metadata": {},
     "output_type": "execute_result"
    }
   ],
   "source": [
    "events_test = event.merge(test,on='person',how='inner')\n",
    "events_test.head()"
   ]
  },
  {
   "cell_type": "code",
   "execution_count": 5,
   "metadata": {},
   "outputs": [],
   "source": [
    "#feature engine trucho\n",
    "events_training = event.merge(label_train,on='person',how='inner')"
   ]
  },
  {
   "cell_type": "code",
   "execution_count": null,
   "metadata": {},
   "outputs": [],
   "source": [
    " "
   ]
  },
  {
   "cell_type": "code",
   "execution_count": null,
   "metadata": {},
   "outputs": [],
   "source": [
    " "
   ]
  },
  {
   "cell_type": "code",
   "execution_count": 11,
   "metadata": {},
   "outputs": [],
   "source": [
    " cualidades = {\"Moto\":[\"Moto\"],\n",
    "   \"j7\":[\"j7\"],\n",
    "  \"s8\":[\"s8\"],\n",
    "    \"Lg\":[\"Lg\"],\n",
    "          \"A5\":[\"A5\"],\n",
    "          \"Celular\":[\"Celular\"],\n",
    "               \"Motorola\":[\"Motorola\"],\n",
    "               \"Galaxy\":[\"Galaxy\"],\n",
    "               \"Samsung\":[\"Samsung\"],\n",
    "               \"Iphone\":[\"Iphone\"],\n",
    "               \"prime\":[\"prime\"],\n",
    "                \"sansung\":[\"sansung\"],\n",
    "               \"s6\":[\"s6\"],\n",
    "               \"j5\":[\"j5\"],\n",
    "               \"j2\":[\"j2\"],\n",
    "               \"edge\":[\"edge\"],\n",
    "               \"dourado\":[\"dourado\"],\n",
    "          \"g5\":[\"g5\"]        \n",
    "\n",
    "  }"
   ]
  },
  {
   "cell_type": "code",
   "execution_count": null,
   "metadata": {},
   "outputs": [],
   "source": [
    "     "
   ]
  },
  {
   "cell_type": "code",
   "execution_count": null,
   "metadata": {},
   "outputs": [],
   "source": [
    " "
   ]
  },
  {
   "cell_type": "code",
   "execution_count": null,
   "metadata": {},
   "outputs": [],
   "source": [
    " "
   ]
  },
  {
   "cell_type": "code",
   "execution_count": null,
   "metadata": {},
   "outputs": [],
   "source": [
    " "
   ]
  },
  {
   "cell_type": "code",
   "execution_count": null,
   "metadata": {},
   "outputs": [],
   "source": []
  },
  {
   "cell_type": "code",
   "execution_count": null,
   "metadata": {},
   "outputs": [],
   "source": [
    " "
   ]
  },
  {
   "cell_type": "code",
   "execution_count": null,
   "metadata": {},
   "outputs": [],
   "source": [
    " "
   ]
  },
  {
   "cell_type": "code",
   "execution_count": null,
   "metadata": {},
   "outputs": [],
   "source": [
    " "
   ]
  },
  {
   "cell_type": "code",
   "execution_count": null,
   "metadata": {},
   "outputs": [],
   "source": [
    " "
   ]
  },
  {
   "cell_type": "code",
   "execution_count": null,
   "metadata": {},
   "outputs": [],
   "source": [
    "  "
   ]
  },
  {
   "cell_type": "code",
   "execution_count": null,
   "metadata": {},
   "outputs": [],
   "source": [
    " "
   ]
  },
  {
   "cell_type": "code",
   "execution_count": null,
   "metadata": {},
   "outputs": [],
   "source": [
    " "
   ]
  },
  {
   "cell_type": "code",
   "execution_count": null,
   "metadata": {},
   "outputs": [],
   "source": [
    " "
   ]
  },
  {
   "cell_type": "code",
   "execution_count": null,
   "metadata": {},
   "outputs": [],
   "source": [
    " "
   ]
  },
  {
   "cell_type": "code",
   "execution_count": null,
   "metadata": {},
   "outputs": [],
   "source": [
    " "
   ]
  },
  {
   "cell_type": "code",
   "execution_count": null,
   "metadata": {},
   "outputs": [],
   "source": [
    " "
   ]
  },
  {
   "cell_type": "code",
   "execution_count": null,
   "metadata": {},
   "outputs": [],
   "source": [
    " "
   ]
  },
  {
   "cell_type": "code",
   "execution_count": null,
   "metadata": {},
   "outputs": [],
   "source": [
    " "
   ]
  },
  {
   "cell_type": "code",
   "execution_count": 12,
   "metadata": {},
   "outputs": [],
   "source": [
    "def agregarcolumnas(archivo,archivo_con_feature):\n",
    "    #archivo_con_feature es un archivo test o train con feature antes calculada\n",
    "    #archivo es el train con label o el test\n",
    "    \n",
    "     \n",
    "    archivo['timestamp'] = pd.to_datetime(archivo['timestamp'])\n",
    "    archivo['Anio'] = archivo['timestamp'].map(lambda x:x.year)\n",
    "    archivo['Mes'] = archivo['timestamp'].map(lambda x:x.month)\n",
    "    archivo['Dia'] = archivo['timestamp'].map(lambda x:x.dayofweek)\n",
    "    archivo['Mes_Nombre'] = archivo['timestamp'].map(lambda x:x.month)\n",
    "\n",
    "    archivo['Hora'] = pd.to_datetime(archivo['timestamp'],\\\n",
    "                                   format='%H:%M',errors='coerce').dt.hour\n",
    "    \n",
    "    \n",
    "    for cualidad in cualidades:\n",
    "               \n",
    "                archivo[cualidad]= archivo['search_term'].str.lower().str.contains(cualidad)\n",
    "                  \n",
    "            \n",
    "    for cualidad in cualidades:\n",
    "        archivo[cualidad].fillna(0, inplace=True)           \n",
    "    \n",
    "    \n",
    "    \n",
    "    final_letras=archivo.groupby('person').agg({'Moto':'sum' ,'j7':'sum','s8':'sum','Lg':'sum' ,'A5':'sum','Celular':'sum' ,'Motorola':'sum','Galaxy':'sum','Samsung':'sum','Iphone':'sum','prime':'sum','sansung':'sum','s6':'sum','j5':'sum','edge':'sum','j2':'sum','dourado':'sum','g5':'sum'})\n",
    "    \n",
    "    final_letras = final_letras.rename(columns={'Moto':'Moto_term' ,'j7':'j7_term','s8':'s8_term','Lg':'lg_term' ,'A5':'A5_term','Celular':'celular_term' ,'Motorola':'motorola_term','Galaxy':'galaxy_term','Samsung':'samsung_term','Iphone':'iphone_term','prime':'prime_term','sansung':'sansung_term','s6':'s6_term','j5':'j5_term','edge':'edge_term','j2':'j2_term','dourado':'dourado_term','g5':'g5_term'}) \n",
    "    \n",
    "    archivo_listapalabras=pd.merge(archivo_con_feature,final_letras,on='person',how='left')\n",
    "    archivo_listapalabras=archivo_listapalabras.fillna(0)\n",
    "    \n",
    "    \n",
    "     \n",
    "  \n",
    " \n",
    "    \n",
    "    \n",
    "    return archivo_listapalabras"
   ]
  },
  {
   "cell_type": "code",
   "execution_count": 13,
   "metadata": {},
   "outputs": [
    {
     "name": "stdout",
     "output_type": "stream",
     "text": [
      "<class 'pandas.core.frame.DataFrame'>\n",
      "Int64Index: 19414 entries, 0 to 19413\n",
      "Columns: 104 entries, person to g5_term\n",
      "dtypes: float64(72), int64(31), object(1)\n",
      "memory usage: 15.6+ MB\n"
     ]
    }
   ],
   "source": [
    "data_train=agregarcolumnas(events_training,train_con_feature)\n",
    "data_train.info()"
   ]
  },
  {
   "cell_type": "code",
   "execution_count": null,
   "metadata": {},
   "outputs": [],
   "source": [
    "len(data_train.columns)"
   ]
  },
  {
   "cell_type": "code",
   "execution_count": 14,
   "metadata": {},
   "outputs": [
    {
     "data": {
      "text/html": [
       "<div>\n",
       "<style scoped>\n",
       "    .dataframe tbody tr th:only-of-type {\n",
       "        vertical-align: middle;\n",
       "    }\n",
       "\n",
       "    .dataframe tbody tr th {\n",
       "        vertical-align: top;\n",
       "    }\n",
       "\n",
       "    .dataframe thead th {\n",
       "        text-align: right;\n",
       "    }\n",
       "</style>\n",
       "<table border=\"1\" class=\"dataframe\">\n",
       "  <thead>\n",
       "    <tr style=\"text-align: right;\">\n",
       "      <th></th>\n",
       "      <th>person</th>\n",
       "      <th>mean_time_between_events</th>\n",
       "      <th>mean_time_between_co</th>\n",
       "      <th>mean_time_between_ch</th>\n",
       "      <th>mean_time_between_vs</th>\n",
       "      <th>mean_time_between_ad</th>\n",
       "      <th>mean_time_between_bl</th>\n",
       "      <th>mean_time_between_st</th>\n",
       "      <th>mean_time_between_se</th>\n",
       "      <th>mean_time_between_sp</th>\n",
       "      <th>...</th>\n",
       "      <th>samsung_term</th>\n",
       "      <th>iphone_term</th>\n",
       "      <th>prime_term</th>\n",
       "      <th>sansung_term</th>\n",
       "      <th>s6_term</th>\n",
       "      <th>j5_term</th>\n",
       "      <th>edge_term</th>\n",
       "      <th>j2_term</th>\n",
       "      <th>dourado_term</th>\n",
       "      <th>g5_term</th>\n",
       "    </tr>\n",
       "  </thead>\n",
       "  <tbody>\n",
       "    <tr>\n",
       "      <th>0</th>\n",
       "      <td>4886f805</td>\n",
       "      <td>2.24</td>\n",
       "      <td>-1.00</td>\n",
       "      <td>0.00</td>\n",
       "      <td>0.00</td>\n",
       "      <td>-1.00</td>\n",
       "      <td>-1.00</td>\n",
       "      <td>-1.00</td>\n",
       "      <td>0.00</td>\n",
       "      <td>0.00</td>\n",
       "      <td>...</td>\n",
       "      <td>0</td>\n",
       "      <td>0</td>\n",
       "      <td>0</td>\n",
       "      <td>0</td>\n",
       "      <td>0</td>\n",
       "      <td>0</td>\n",
       "      <td>0</td>\n",
       "      <td>0</td>\n",
       "      <td>0</td>\n",
       "      <td>0</td>\n",
       "    </tr>\n",
       "    <tr>\n",
       "      <th>1</th>\n",
       "      <td>0297fc1e</td>\n",
       "      <td>4.33</td>\n",
       "      <td>-1.00</td>\n",
       "      <td>6.25</td>\n",
       "      <td>5.10</td>\n",
       "      <td>5.60</td>\n",
       "      <td>6.34</td>\n",
       "      <td>-1.00</td>\n",
       "      <td>-1.00</td>\n",
       "      <td>6.18</td>\n",
       "      <td>...</td>\n",
       "      <td>0</td>\n",
       "      <td>0</td>\n",
       "      <td>0</td>\n",
       "      <td>0</td>\n",
       "      <td>0</td>\n",
       "      <td>0</td>\n",
       "      <td>0</td>\n",
       "      <td>0</td>\n",
       "      <td>0</td>\n",
       "      <td>0</td>\n",
       "    </tr>\n",
       "    <tr>\n",
       "      <th>2</th>\n",
       "      <td>2d681dd8</td>\n",
       "      <td>4.53</td>\n",
       "      <td>-1.00</td>\n",
       "      <td>0.00</td>\n",
       "      <td>5.93</td>\n",
       "      <td>0.00</td>\n",
       "      <td>5.33</td>\n",
       "      <td>-1.00</td>\n",
       "      <td>5.93</td>\n",
       "      <td>0.00</td>\n",
       "      <td>...</td>\n",
       "      <td>0</td>\n",
       "      <td>0</td>\n",
       "      <td>0</td>\n",
       "      <td>0</td>\n",
       "      <td>0</td>\n",
       "      <td>0</td>\n",
       "      <td>0</td>\n",
       "      <td>0</td>\n",
       "      <td>0</td>\n",
       "      <td>0</td>\n",
       "    </tr>\n",
       "    <tr>\n",
       "      <th>3</th>\n",
       "      <td>cccea85e</td>\n",
       "      <td>3.39</td>\n",
       "      <td>-1.00</td>\n",
       "      <td>0.00</td>\n",
       "      <td>4.99</td>\n",
       "      <td>5.16</td>\n",
       "      <td>5.52</td>\n",
       "      <td>4.39</td>\n",
       "      <td>4.91</td>\n",
       "      <td>0.00</td>\n",
       "      <td>...</td>\n",
       "      <td>0</td>\n",
       "      <td>0</td>\n",
       "      <td>0</td>\n",
       "      <td>0</td>\n",
       "      <td>0</td>\n",
       "      <td>0</td>\n",
       "      <td>0</td>\n",
       "      <td>0</td>\n",
       "      <td>0</td>\n",
       "      <td>0</td>\n",
       "    </tr>\n",
       "    <tr>\n",
       "      <th>4</th>\n",
       "      <td>4c8a8b93</td>\n",
       "      <td>3.13</td>\n",
       "      <td>-1.00</td>\n",
       "      <td>4.70</td>\n",
       "      <td>4.26</td>\n",
       "      <td>4.30</td>\n",
       "      <td>2.74</td>\n",
       "      <td>-1.00</td>\n",
       "      <td>4.25</td>\n",
       "      <td>2.83</td>\n",
       "      <td>...</td>\n",
       "      <td>0</td>\n",
       "      <td>0</td>\n",
       "      <td>0</td>\n",
       "      <td>0</td>\n",
       "      <td>0</td>\n",
       "      <td>0</td>\n",
       "      <td>0</td>\n",
       "      <td>0</td>\n",
       "      <td>0</td>\n",
       "      <td>0</td>\n",
       "    </tr>\n",
       "  </tbody>\n",
       "</table>\n",
       "<p>5 rows × 103 columns</p>\n",
       "</div>"
      ],
      "text/plain": [
       "     person  mean_time_between_events  mean_time_between_co  \\\n",
       "0  4886f805                      2.24                 -1.00   \n",
       "1  0297fc1e                      4.33                 -1.00   \n",
       "2  2d681dd8                      4.53                 -1.00   \n",
       "3  cccea85e                      3.39                 -1.00   \n",
       "4  4c8a8b93                      3.13                 -1.00   \n",
       "\n",
       "   mean_time_between_ch  mean_time_between_vs  mean_time_between_ad  \\\n",
       "0                  0.00                  0.00                 -1.00   \n",
       "1                  6.25                  5.10                  5.60   \n",
       "2                  0.00                  5.93                  0.00   \n",
       "3                  0.00                  4.99                  5.16   \n",
       "4                  4.70                  4.26                  4.30   \n",
       "\n",
       "   mean_time_between_bl  mean_time_between_st  mean_time_between_se  \\\n",
       "0                 -1.00                 -1.00                  0.00   \n",
       "1                  6.34                 -1.00                 -1.00   \n",
       "2                  5.33                 -1.00                  5.93   \n",
       "3                  5.52                  4.39                  4.91   \n",
       "4                  2.74                 -1.00                  4.25   \n",
       "\n",
       "   mean_time_between_sp   ...     samsung_term  iphone_term  prime_term  \\\n",
       "0                  0.00   ...                0            0           0   \n",
       "1                  6.18   ...                0            0           0   \n",
       "2                  0.00   ...                0            0           0   \n",
       "3                  0.00   ...                0            0           0   \n",
       "4                  2.83   ...                0            0           0   \n",
       "\n",
       "   sansung_term  s6_term  j5_term  edge_term  j2_term  dourado_term  g5_term  \n",
       "0             0        0        0          0        0             0        0  \n",
       "1             0        0        0          0        0             0        0  \n",
       "2             0        0        0          0        0             0        0  \n",
       "3             0        0        0          0        0             0        0  \n",
       "4             0        0        0          0        0             0        0  \n",
       "\n",
       "[5 rows x 103 columns]"
      ]
     },
     "execution_count": 14,
     "metadata": {},
     "output_type": "execute_result"
    }
   ],
   "source": [
    "data_test=agregarcolumnas(events_test,test_con_feature)\n",
    "data_test.head() "
   ]
  },
  {
   "cell_type": "code",
   "execution_count": null,
   "metadata": {},
   "outputs": [],
   "source": [
    "len(data_test.columns)"
   ]
  },
  {
   "cell_type": "code",
   "execution_count": 15,
   "metadata": {},
   "outputs": [],
   "source": [
    "data_train.to_csv(\"train_paso_8.csv\", index = False)"
   ]
  },
  {
   "cell_type": "code",
   "execution_count": 16,
   "metadata": {},
   "outputs": [],
   "source": [
    "data_test.to_csv(\"test_paso_8.csv\", index = False)"
   ]
  },
  {
   "cell_type": "code",
   "execution_count": null,
   "metadata": {},
   "outputs": [],
   "source": []
  },
  {
   "cell_type": "code",
   "execution_count": null,
   "metadata": {},
   "outputs": [],
   "source": []
  },
  {
   "cell_type": "code",
   "execution_count": null,
   "metadata": {},
   "outputs": [],
   "source": []
  },
  {
   "cell_type": "code",
   "execution_count": null,
   "metadata": {},
   "outputs": [],
   "source": []
  },
  {
   "cell_type": "code",
   "execution_count": null,
   "metadata": {},
   "outputs": [],
   "source": []
  },
  {
   "cell_type": "code",
   "execution_count": null,
   "metadata": {},
   "outputs": [],
   "source": []
  },
  {
   "cell_type": "code",
   "execution_count": null,
   "metadata": {},
   "outputs": [],
   "source": []
  }
 ],
 "metadata": {
  "kernelspec": {
   "display_name": "Python 3",
   "language": "python",
   "name": "python3"
  },
  "language_info": {
   "codemirror_mode": {
    "name": "ipython",
    "version": 3
   },
   "file_extension": ".py",
   "mimetype": "text/x-python",
   "name": "python",
   "nbconvert_exporter": "python",
   "pygments_lexer": "ipython3",
   "version": "3.6.5"
  }
 },
 "nbformat": 4,
 "nbformat_minor": 2
}
