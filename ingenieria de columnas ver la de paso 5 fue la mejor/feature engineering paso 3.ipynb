{
 "cells": [
  {
   "cell_type": "code",
   "execution_count": 1,
   "metadata": {},
   "outputs": [],
   "source": [
    "import pandas as pd\n",
    "import math as mt"
   ]
  },
  {
   "cell_type": "code",
   "execution_count": null,
   "metadata": {},
   "outputs": [],
   "source": [
    "event_training = pd.read_csv('training.csv')\n",
    "event_test = pd.read_csv('test.csv')"
   ]
  },
  {
   "cell_type": "markdown",
   "metadata": {},
   "source": [
    "# vamos a agregar otros features relacionados con el tiempo para cada usuario."
   ]
  },
  {
   "cell_type": "markdown",
   "metadata": {},
   "source": [
    "# primero calculamos que tan lejos esta el ultimo evento de cada tipo para cada usuario con respecto a la fecha limite (31 de mayo del 2018 a las 23:59:59)"
   ]
  },
  {
   "cell_type": "code",
   "execution_count": null,
   "metadata": {},
   "outputs": [],
   "source": [
    "#primero agrego la columna date al set de datos\n",
    "event_training['date'] = pd.to_datetime(event_training['timestamp'])"
   ]
  },
  {
   "cell_type": "code",
   "execution_count": null,
   "metadata": {},
   "outputs": [],
   "source": [
    "# primero para viewed product, a los que no realizaron este evento les pongo -1, como manera de diferenciar"
   ]
  },
  {
   "cell_type": "code",
   "execution_count": null,
   "metadata": {},
   "outputs": [],
   "source": [
    "def calcularDistancia(dataframe, evento, nombre):\n",
    "    fecha_limite=pd.to_datetime('2018-05-31 23:59:59')\n",
    "    usuarios_con_evento = dataframe.groupby('person').filter(lambda x: (x['event']==evento).any())\\\n",
    "                    .reset_index(drop=True)\n",
    "    usuarios_sin_evento = dataframe.groupby('person').filter(lambda x: (x['event']!=evento).all())\\\n",
    "                    .reset_index(drop=True)\n",
    "    tabla = usuarios_sin_evento.loc[:,['person','timestamp']].drop_duplicates(subset='person',keep='first')\n",
    "    tabla.columns=['person',nombre]\n",
    "    tabla[nombre]=-1\n",
    "    usuarios_con_evento = usuarios_con_evento.loc[usuarios_con_evento['event']==evento,['person','date']]\\\n",
    "                            .sort_values(by='date',ascending=True).groupby('person').max().reset_index()\n",
    "    usuarios_con_evento[nombre]=(fecha_limite-usuarios_con_evento['date']).dt.total_seconds()\n",
    "    tabla2=usuarios_con_evento.loc[:,['person',nombre]]\n",
    "    tabla = pd.concat([tabla2,tabla])\n",
    "    return tabla"
   ]
  },
  {
   "cell_type": "code",
   "execution_count": null,
   "metadata": {},
   "outputs": [],
   "source": [
    "limit_vp = calcularDistancia(event_training,'viewed product','time_to_last_vp')\n",
    "limit_co = calcularDistancia(event_training,'conversion','time_to_last_co')\n",
    "limit_ch = calcularDistancia(event_training,'checkout','time_to_last_ch')\n",
    "limit_le = calcularDistancia(event_training,'lead','time_to_last_le')\n",
    "limit_ad = calcularDistancia(event_training,'ad compaign hit','time_to_last_ad')\n",
    "limit_bl = calcularDistancia(event_training,'brand listing','time_to_last_bl')\n",
    "limit_gl = calcularDistancia(event_training,'geberic listing','time_to_last_gl')\n",
    "limit_sp = calcularDistancia(event_training,'searched products','time_to_last_sp')\n",
    "limit_vs = calcularDistancia(event_training,'visited site','time_to_last_vs')\n",
    "limit_se = calcularDistancia(event_training,'shearch engine hit','time_to_last_se')\n",
    "limit_st = calcularDistancia(event_training,'staticpage','time_to_last_st')"
   ]
  },
  {
   "cell_type": "code",
   "execution_count": null,
   "metadata": {},
   "outputs": [],
   "source": [
    "last_time_train = limit_vp.merge(limit_co,on='person',how='inner').merge(limit_ch,on='person',how='inner')\\\n",
    "                        .merge(limit_le,on='person',how='inner').merge(limit_ad,on='person',how='inner')\\\n",
    "                            .merge(limit_bl,on='person',how='inner').merge(limit_gl,on='person',how='inner')\\\n",
    "                                .merge(limit_sp,on='person',how='inner').merge(limit_vs,on='person',how='inner')\\\n",
    "                                    .merge(limit_se,on='person',how='inner').merge(limit_st,on='person',how='inner')"
   ]
  },
  {
   "cell_type": "code",
   "execution_count": null,
   "metadata": {},
   "outputs": [],
   "source": [
    "last_time_train.head()"
   ]
  },
  {
   "cell_type": "markdown",
   "metadata": {},
   "source": [
    "# Ahora para el set de datos test:"
   ]
  },
  {
   "cell_type": "code",
   "execution_count": null,
   "metadata": {},
   "outputs": [],
   "source": [
    "event_test['date'] = pd.to_datetime(event_test['timestamp'])"
   ]
  },
  {
   "cell_type": "code",
   "execution_count": null,
   "metadata": {},
   "outputs": [],
   "source": [
    "limit_vp_test = calcularDistancia(event_test,'viewed product','time_to_last_vp')\n",
    "limit_co_test = calcularDistancia(event_test,'conversion','time_to_last_co')\n",
    "limit_ch_test = calcularDistancia(event_test,'checkout','time_to_last_ch')\n",
    "limit_le_test = calcularDistancia(event_test,'lead','time_to_last_le')\n",
    "limit_ad_test = calcularDistancia(event_test,'ad compaign hit','time_to_last_ad')\n",
    "limit_bl_test = calcularDistancia(event_test,'brand listing','time_to_last_bl')\n",
    "limit_gl_test = calcularDistancia(event_test,'geberic listing','time_to_last_gl')\n",
    "limit_sp_test = calcularDistancia(event_test,'searched products','time_to_last_sp')\n",
    "limit_vs_test = calcularDistancia(event_test,'visited site','time_to_last_vs')\n",
    "limit_se_test = calcularDistancia(event_test,'shearch engine hit','time_to_last_se')\n",
    "limit_st_test = calcularDistancia(event_test,'staticpage','time_to_last_st')"
   ]
  },
  {
   "cell_type": "code",
   "execution_count": null,
   "metadata": {},
   "outputs": [],
   "source": [
    "last_time_test = limit_vp_test.merge(limit_co_test,on='person',how='inner').merge(limit_ch_test,on='person',how='inner')\\\n",
    "                        .merge(limit_le_test,on='person',how='inner').merge(limit_ad_test,on='person',how='inner')\\\n",
    "                            .merge(limit_bl_test,on='person',how='inner').merge(limit_gl_test,on='person',how='inner')\\\n",
    "                                .merge(limit_sp_test,on='person',how='inner').merge(limit_vs_test,on='person',how='inner')\\\n",
    "                                    .merge(limit_se_test,on='person',how='inner').merge(limit_st_test,on='person',how='inner')"
   ]
  },
  {
   "cell_type": "code",
   "execution_count": null,
   "metadata": {},
   "outputs": [],
   "source": [
    "train_paso_2 = pd.read_csv('train_paso_2.csv')\n",
    "test_paso_2 = pd.read_csv('test_paso_2.csv')"
   ]
  },
  {
   "cell_type": "code",
   "execution_count": null,
   "metadata": {},
   "outputs": [],
   "source": [
    "train_paso_3 = train_paso_2.merge(last_time_train,on='person',how='inner')\n",
    "test_paso_3 = test_paso_2.merge(last_time_test,on='person',how='inner')"
   ]
  },
  {
   "cell_type": "code",
   "execution_count": null,
   "metadata": {},
   "outputs": [],
   "source": [
    "train_paso_3.head()"
   ]
  },
  {
   "cell_type": "code",
   "execution_count": null,
   "metadata": {},
   "outputs": [],
   "source": [
    "test_paso_3.head()"
   ]
  },
  {
   "cell_type": "code",
   "execution_count": null,
   "metadata": {},
   "outputs": [],
   "source": [
    "test_paso_3.to_csv('test_paso_3.csv',index=False)\n",
    "train_paso_3.to_csv('train_paso_3.csv',index=False)"
   ]
  },
  {
   "cell_type": "code",
   "execution_count": null,
   "metadata": {},
   "outputs": [],
   "source": []
  }
 ],
 "metadata": {
  "kernelspec": {
   "display_name": "Python 3",
   "language": "python",
   "name": "python3"
  },
  "language_info": {
   "codemirror_mode": {
    "name": "ipython",
    "version": 3
   },
   "file_extension": ".py",
   "mimetype": "text/x-python",
   "name": "python",
   "nbconvert_exporter": "python",
   "pygments_lexer": "ipython3",
   "version": "3.6.6"
  }
 },
 "nbformat": 4,
 "nbformat_minor": 2
}
