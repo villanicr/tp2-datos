{
 "cells": [
  {
   "cell_type": "code",
   "execution_count": 1,
   "metadata": {},
   "outputs": [],
   "source": [
    "import pandas as pd\n",
    "import numpy as np\n",
    "import seaborn as sns\n",
    "import matplotlib.pyplot as plt\n",
    "import datetime as datetime\n",
    "import warnings\n",
    "warnings.filterwarnings('ignore')\n",
    "\n",
    "%matplotlib inline"
   ]
  },
  {
   "cell_type": "code",
   "execution_count": 2,
   "metadata": {},
   "outputs": [
    {
     "name": "stdout",
     "output_type": "stream",
     "text": [
      "Populating the interactive namespace from numpy and matplotlib\n"
     ]
    },
    {
     "name": "stderr",
     "output_type": "stream",
     "text": [
      "/home/cristian/anaconda3/lib/python3.6/site-packages/sklearn/cross_validation.py:41: DeprecationWarning: This module was deprecated in version 0.18 in favor of the model_selection module into which all the refactored classes and functions are moved. Also note that the interface of the new CV iterators are different from that of this module. This module will be removed in 0.20.\n",
      "  \"This module will be removed in 0.20.\", DeprecationWarning)\n",
      "/home/cristian/anaconda3/lib/python3.6/site-packages/sklearn/grid_search.py:42: DeprecationWarning: This module was deprecated in version 0.18 in favor of the model_selection module into which all the refactored classes and functions are moved. This module will be removed in 0.20.\n",
      "  DeprecationWarning)\n"
     ]
    }
   ],
   "source": [
    "from sklearn.neighbors import KNeighborsRegressor\n",
    "from sklearn.model_selection import cross_val_score\n",
    "from sklearn import cross_validation, metrics\n",
    "from sklearn.grid_search import GridSearchCV\n",
    "%pylab inline"
   ]
  },
  {
   "cell_type": "code",
   "execution_count": 3,
   "metadata": {},
   "outputs": [],
   "source": [
    "train_entrenamiento = pd.read_csv('train_paso_3.csv')\n",
    "test_entrenamiento = pd.read_csv('test_paso_3.csv')\n",
    "test = pd.read_csv('trocafone_kaggle_test.csv')\n"
   ]
  },
  {
   "cell_type": "code",
   "execution_count": 4,
   "metadata": {},
   "outputs": [],
   "source": [
    "len(train_entrenamiento)\n",
    "train_entrenamiento = train_entrenamiento.drop('person', 1)"
   ]
  },
  {
   "cell_type": "code",
   "execution_count": 5,
   "metadata": {},
   "outputs": [
    {
     "data": {
      "text/html": [
       "<div>\n",
       "<style scoped>\n",
       "    .dataframe tbody tr th:only-of-type {\n",
       "        vertical-align: middle;\n",
       "    }\n",
       "\n",
       "    .dataframe tbody tr th {\n",
       "        vertical-align: top;\n",
       "    }\n",
       "\n",
       "    .dataframe thead th {\n",
       "        text-align: right;\n",
       "    }\n",
       "</style>\n",
       "<table border=\"1\" class=\"dataframe\">\n",
       "  <thead>\n",
       "    <tr style=\"text-align: right;\">\n",
       "      <th></th>\n",
       "      <th>label</th>\n",
       "      <th>most_frequent_event</th>\n",
       "      <th>count_most_frequent_event</th>\n",
       "      <th>less_frequent_event</th>\n",
       "      <th>count_less_frequent_event</th>\n",
       "      <th>ad campaign hit</th>\n",
       "      <th>brand listing</th>\n",
       "      <th>checkout</th>\n",
       "      <th>conversion</th>\n",
       "      <th>generic listing</th>\n",
       "      <th>...</th>\n",
       "      <th>desconocido_modelo</th>\n",
       "      <th>Asus</th>\n",
       "      <th>LG</th>\n",
       "      <th>Lenovo</th>\n",
       "      <th>Motorola</th>\n",
       "      <th>Quantum</th>\n",
       "      <th>Samsung</th>\n",
       "      <th>Sony</th>\n",
       "      <th>iPad</th>\n",
       "      <th>iPhone</th>\n",
       "    </tr>\n",
       "  </thead>\n",
       "  <tbody>\n",
       "    <tr>\n",
       "      <th>0</th>\n",
       "      <td>0</td>\n",
       "      <td>viewed product</td>\n",
       "      <td>23</td>\n",
       "      <td>checkout</td>\n",
       "      <td>1</td>\n",
       "      <td>6.0</td>\n",
       "      <td>3.0</td>\n",
       "      <td>1.0</td>\n",
       "      <td>1.0</td>\n",
       "      <td>15.0</td>\n",
       "      <td>...</td>\n",
       "      <td>43.0</td>\n",
       "      <td>0.0</td>\n",
       "      <td>2.0</td>\n",
       "      <td>0.0</td>\n",
       "      <td>0.0</td>\n",
       "      <td>0.0</td>\n",
       "      <td>11.0</td>\n",
       "      <td>1.0</td>\n",
       "      <td>0.0</td>\n",
       "      <td>11.0</td>\n",
       "    </tr>\n",
       "    <tr>\n",
       "      <th>1</th>\n",
       "      <td>0</td>\n",
       "      <td>ad campaign hit</td>\n",
       "      <td>1</td>\n",
       "      <td>ad campaign hit</td>\n",
       "      <td>1</td>\n",
       "      <td>1.0</td>\n",
       "      <td>0.0</td>\n",
       "      <td>0.0</td>\n",
       "      <td>0.0</td>\n",
       "      <td>0.0</td>\n",
       "      <td>...</td>\n",
       "      <td>2.0</td>\n",
       "      <td>0.0</td>\n",
       "      <td>0.0</td>\n",
       "      <td>0.0</td>\n",
       "      <td>0.0</td>\n",
       "      <td>0.0</td>\n",
       "      <td>0.0</td>\n",
       "      <td>0.0</td>\n",
       "      <td>0.0</td>\n",
       "      <td>0.0</td>\n",
       "    </tr>\n",
       "    <tr>\n",
       "      <th>2</th>\n",
       "      <td>0</td>\n",
       "      <td>viewed product</td>\n",
       "      <td>31</td>\n",
       "      <td>checkout</td>\n",
       "      <td>1</td>\n",
       "      <td>9.0</td>\n",
       "      <td>14.0</td>\n",
       "      <td>1.0</td>\n",
       "      <td>0.0</td>\n",
       "      <td>9.0</td>\n",
       "      <td>...</td>\n",
       "      <td>64.0</td>\n",
       "      <td>0.0</td>\n",
       "      <td>0.0</td>\n",
       "      <td>0.0</td>\n",
       "      <td>0.0</td>\n",
       "      <td>0.0</td>\n",
       "      <td>14.0</td>\n",
       "      <td>0.0</td>\n",
       "      <td>0.0</td>\n",
       "      <td>18.0</td>\n",
       "    </tr>\n",
       "    <tr>\n",
       "      <th>3</th>\n",
       "      <td>0</td>\n",
       "      <td>viewed product</td>\n",
       "      <td>24</td>\n",
       "      <td>search engine hit</td>\n",
       "      <td>1</td>\n",
       "      <td>0.0</td>\n",
       "      <td>5.0</td>\n",
       "      <td>0.0</td>\n",
       "      <td>0.0</td>\n",
       "      <td>3.0</td>\n",
       "      <td>...</td>\n",
       "      <td>13.0</td>\n",
       "      <td>0.0</td>\n",
       "      <td>0.0</td>\n",
       "      <td>6.0</td>\n",
       "      <td>5.0</td>\n",
       "      <td>0.0</td>\n",
       "      <td>10.0</td>\n",
       "      <td>3.0</td>\n",
       "      <td>0.0</td>\n",
       "      <td>0.0</td>\n",
       "    </tr>\n",
       "    <tr>\n",
       "      <th>4</th>\n",
       "      <td>0</td>\n",
       "      <td>viewed product</td>\n",
       "      <td>9</td>\n",
       "      <td>visited site</td>\n",
       "      <td>1</td>\n",
       "      <td>5.0</td>\n",
       "      <td>0.0</td>\n",
       "      <td>2.0</td>\n",
       "      <td>0.0</td>\n",
       "      <td>0.0</td>\n",
       "      <td>...</td>\n",
       "      <td>6.0</td>\n",
       "      <td>0.0</td>\n",
       "      <td>0.0</td>\n",
       "      <td>0.0</td>\n",
       "      <td>0.0</td>\n",
       "      <td>0.0</td>\n",
       "      <td>11.0</td>\n",
       "      <td>0.0</td>\n",
       "      <td>0.0</td>\n",
       "      <td>0.0</td>\n",
       "    </tr>\n",
       "  </tbody>\n",
       "</table>\n",
       "<p>5 rows × 40 columns</p>\n",
       "</div>"
      ],
      "text/plain": [
       "   label most_frequent_event  count_most_frequent_event less_frequent_event  \\\n",
       "0      0      viewed product                         23            checkout   \n",
       "1      0     ad campaign hit                          1     ad campaign hit   \n",
       "2      0      viewed product                         31            checkout   \n",
       "3      0      viewed product                         24   search engine hit   \n",
       "4      0      viewed product                          9        visited site   \n",
       "\n",
       "   count_less_frequent_event  ad campaign hit  brand listing  checkout  \\\n",
       "0                          1              6.0            3.0       1.0   \n",
       "1                          1              1.0            0.0       0.0   \n",
       "2                          1              9.0           14.0       1.0   \n",
       "3                          1              0.0            5.0       0.0   \n",
       "4                          1              5.0            0.0       2.0   \n",
       "\n",
       "   conversion  generic listing   ...    desconocido_modelo  Asus   LG  Lenovo  \\\n",
       "0         1.0             15.0   ...                  43.0   0.0  2.0     0.0   \n",
       "1         0.0              0.0   ...                   2.0   0.0  0.0     0.0   \n",
       "2         0.0              9.0   ...                  64.0   0.0  0.0     0.0   \n",
       "3         0.0              3.0   ...                  13.0   0.0  0.0     6.0   \n",
       "4         0.0              0.0   ...                   6.0   0.0  0.0     0.0   \n",
       "\n",
       "   Motorola  Quantum  Samsung  Sony  iPad  iPhone  \n",
       "0       0.0      0.0     11.0   1.0   0.0    11.0  \n",
       "1       0.0      0.0      0.0   0.0   0.0     0.0  \n",
       "2       0.0      0.0     14.0   0.0   0.0    18.0  \n",
       "3       5.0      0.0     10.0   3.0   0.0     0.0  \n",
       "4       0.0      0.0     11.0   0.0   0.0     0.0  \n",
       "\n",
       "[5 rows x 40 columns]"
      ]
     },
     "execution_count": 5,
     "metadata": {},
     "output_type": "execute_result"
    }
   ],
   "source": [
    "test_entrenamiento = test_entrenamiento.drop('person', 1)\n",
    "train_entrenamiento.head()"
   ]
  },
  {
   "cell_type": "code",
   "execution_count": null,
   "metadata": {},
   "outputs": [],
   "source": []
  },
  {
   "cell_type": "code",
   "execution_count": 6,
   "metadata": {},
   "outputs": [],
   "source": [
    "#hash\n",
    "#Transformo texto a numeros\n",
    "train_entrenamiento['most_frequent_event'] = train_entrenamiento.apply(lambda row:  hash(row['most_frequent_event'])\\\n",
    "                        if not(pd.isnull(row['most_frequent_event'])) else np.nan, axis = 1)\n",
    "train_entrenamiento['less_frequent_event'] = train_entrenamiento.apply(lambda row:  hash(row['less_frequent_event'])\\\n",
    "                        if not(pd.isnull(row['less_frequent_event'])) else np.nan, axis = 1)"
   ]
  },
  {
   "cell_type": "code",
   "execution_count": 7,
   "metadata": {},
   "outputs": [],
   "source": [
    "# def normalize(df):\n",
    "#     result = df.copy()\n",
    "#     for feature_name in df.columns:\n",
    "#         max_value = df[feature_name].max()\n",
    "#         min_value = df[feature_name].min()\n",
    "#         result[feature_name] = (df[feature_name] - min_value) / (max_value - min_value)\n",
    "#     return result\n",
    "\n",
    "# train_entrenamiento=normalize(train_entrenamiento)\n",
    "# train_entrenamiento.head()"
   ]
  },
  {
   "cell_type": "code",
   "execution_count": 8,
   "metadata": {},
   "outputs": [
    {
     "data": {
      "text/plain": [
       "Index(['label', 'most_frequent_event', 'count_most_frequent_event',\n",
       "       'less_frequent_event', 'count_less_frequent_event', 'ad campaign hit',\n",
       "       'brand listing', 'checkout', 'conversion', 'generic listing', 'lead',\n",
       "       'search engine hit', 'searched products', 'staticpage',\n",
       "       'viewed product', 'visited site', 'mean_per_event', '128GB', '16GB',\n",
       "       '256GB', '32GB', '4GB', '512MB', '64GB', '8GB', 'Bom',\n",
       "       'Bom - Sem Touch ID', 'Excelente', 'Muito Bom', 'Novo',\n",
       "       'desconocido_modelo', 'Asus', 'LG', 'Lenovo', 'Motorola', 'Quantum',\n",
       "       'Samsung', 'Sony', 'iPad', 'iPhone'],\n",
       "      dtype='object')"
      ]
     },
     "execution_count": 8,
     "metadata": {},
     "output_type": "execute_result"
    }
   ],
   "source": [
    "string_columns=train_entrenamiento.columns\n",
    "string_columns"
   ]
  },
  {
   "cell_type": "code",
   "execution_count": 9,
   "metadata": {},
   "outputs": [
    {
     "data": {
      "text/html": [
       "<div>\n",
       "<style scoped>\n",
       "    .dataframe tbody tr th:only-of-type {\n",
       "        vertical-align: middle;\n",
       "    }\n",
       "\n",
       "    .dataframe tbody tr th {\n",
       "        vertical-align: top;\n",
       "    }\n",
       "\n",
       "    .dataframe thead th {\n",
       "        text-align: right;\n",
       "    }\n",
       "</style>\n",
       "<table border=\"1\" class=\"dataframe\">\n",
       "  <thead>\n",
       "    <tr style=\"text-align: right;\">\n",
       "      <th></th>\n",
       "      <th>most_frequent_event</th>\n",
       "      <th>count_most_frequent_event</th>\n",
       "      <th>less_frequent_event</th>\n",
       "      <th>count_less_frequent_event</th>\n",
       "      <th>ad campaign hit</th>\n",
       "      <th>brand listing</th>\n",
       "      <th>checkout</th>\n",
       "      <th>conversion</th>\n",
       "      <th>generic listing</th>\n",
       "      <th>lead</th>\n",
       "      <th>...</th>\n",
       "      <th>desconocido_modelo</th>\n",
       "      <th>Asus</th>\n",
       "      <th>LG</th>\n",
       "      <th>Lenovo</th>\n",
       "      <th>Motorola</th>\n",
       "      <th>Quantum</th>\n",
       "      <th>Samsung</th>\n",
       "      <th>Sony</th>\n",
       "      <th>iPad</th>\n",
       "      <th>iPhone</th>\n",
       "    </tr>\n",
       "  </thead>\n",
       "  <tbody>\n",
       "    <tr>\n",
       "      <th>0</th>\n",
       "      <td>-8045053837070434029</td>\n",
       "      <td>23</td>\n",
       "      <td>-4369631690812115373</td>\n",
       "      <td>1</td>\n",
       "      <td>6.0</td>\n",
       "      <td>3.0</td>\n",
       "      <td>1.0</td>\n",
       "      <td>1.0</td>\n",
       "      <td>15.0</td>\n",
       "      <td>0.0</td>\n",
       "      <td>...</td>\n",
       "      <td>43.0</td>\n",
       "      <td>0.0</td>\n",
       "      <td>2.0</td>\n",
       "      <td>0.0</td>\n",
       "      <td>0.0</td>\n",
       "      <td>0.0</td>\n",
       "      <td>11.0</td>\n",
       "      <td>1.0</td>\n",
       "      <td>0.0</td>\n",
       "      <td>11.0</td>\n",
       "    </tr>\n",
       "    <tr>\n",
       "      <th>1</th>\n",
       "      <td>7673245120682117780</td>\n",
       "      <td>1</td>\n",
       "      <td>7673245120682117780</td>\n",
       "      <td>1</td>\n",
       "      <td>1.0</td>\n",
       "      <td>0.0</td>\n",
       "      <td>0.0</td>\n",
       "      <td>0.0</td>\n",
       "      <td>0.0</td>\n",
       "      <td>0.0</td>\n",
       "      <td>...</td>\n",
       "      <td>2.0</td>\n",
       "      <td>0.0</td>\n",
       "      <td>0.0</td>\n",
       "      <td>0.0</td>\n",
       "      <td>0.0</td>\n",
       "      <td>0.0</td>\n",
       "      <td>0.0</td>\n",
       "      <td>0.0</td>\n",
       "      <td>0.0</td>\n",
       "      <td>0.0</td>\n",
       "    </tr>\n",
       "    <tr>\n",
       "      <th>2</th>\n",
       "      <td>-8045053837070434029</td>\n",
       "      <td>31</td>\n",
       "      <td>-4369631690812115373</td>\n",
       "      <td>1</td>\n",
       "      <td>9.0</td>\n",
       "      <td>14.0</td>\n",
       "      <td>1.0</td>\n",
       "      <td>0.0</td>\n",
       "      <td>9.0</td>\n",
       "      <td>0.0</td>\n",
       "      <td>...</td>\n",
       "      <td>64.0</td>\n",
       "      <td>0.0</td>\n",
       "      <td>0.0</td>\n",
       "      <td>0.0</td>\n",
       "      <td>0.0</td>\n",
       "      <td>0.0</td>\n",
       "      <td>14.0</td>\n",
       "      <td>0.0</td>\n",
       "      <td>0.0</td>\n",
       "      <td>18.0</td>\n",
       "    </tr>\n",
       "    <tr>\n",
       "      <th>3</th>\n",
       "      <td>-8045053837070434029</td>\n",
       "      <td>24</td>\n",
       "      <td>-7270690298717534081</td>\n",
       "      <td>1</td>\n",
       "      <td>0.0</td>\n",
       "      <td>5.0</td>\n",
       "      <td>0.0</td>\n",
       "      <td>0.0</td>\n",
       "      <td>3.0</td>\n",
       "      <td>0.0</td>\n",
       "      <td>...</td>\n",
       "      <td>13.0</td>\n",
       "      <td>0.0</td>\n",
       "      <td>0.0</td>\n",
       "      <td>6.0</td>\n",
       "      <td>5.0</td>\n",
       "      <td>0.0</td>\n",
       "      <td>10.0</td>\n",
       "      <td>3.0</td>\n",
       "      <td>0.0</td>\n",
       "      <td>0.0</td>\n",
       "    </tr>\n",
       "    <tr>\n",
       "      <th>4</th>\n",
       "      <td>-8045053837070434029</td>\n",
       "      <td>9</td>\n",
       "      <td>7172899938073839000</td>\n",
       "      <td>1</td>\n",
       "      <td>5.0</td>\n",
       "      <td>0.0</td>\n",
       "      <td>2.0</td>\n",
       "      <td>0.0</td>\n",
       "      <td>0.0</td>\n",
       "      <td>0.0</td>\n",
       "      <td>...</td>\n",
       "      <td>6.0</td>\n",
       "      <td>0.0</td>\n",
       "      <td>0.0</td>\n",
       "      <td>0.0</td>\n",
       "      <td>0.0</td>\n",
       "      <td>0.0</td>\n",
       "      <td>11.0</td>\n",
       "      <td>0.0</td>\n",
       "      <td>0.0</td>\n",
       "      <td>0.0</td>\n",
       "    </tr>\n",
       "  </tbody>\n",
       "</table>\n",
       "<p>5 rows × 39 columns</p>\n",
       "</div>"
      ],
      "text/plain": [
       "   most_frequent_event  count_most_frequent_event  less_frequent_event  \\\n",
       "0 -8045053837070434029                         23 -4369631690812115373   \n",
       "1  7673245120682117780                          1  7673245120682117780   \n",
       "2 -8045053837070434029                         31 -4369631690812115373   \n",
       "3 -8045053837070434029                         24 -7270690298717534081   \n",
       "4 -8045053837070434029                          9  7172899938073839000   \n",
       "\n",
       "   count_less_frequent_event  ad campaign hit  brand listing  checkout  \\\n",
       "0                          1              6.0            3.0       1.0   \n",
       "1                          1              1.0            0.0       0.0   \n",
       "2                          1              9.0           14.0       1.0   \n",
       "3                          1              0.0            5.0       0.0   \n",
       "4                          1              5.0            0.0       2.0   \n",
       "\n",
       "   conversion  generic listing  lead   ...    desconocido_modelo  Asus   LG  \\\n",
       "0         1.0             15.0   0.0   ...                  43.0   0.0  2.0   \n",
       "1         0.0              0.0   0.0   ...                   2.0   0.0  0.0   \n",
       "2         0.0              9.0   0.0   ...                  64.0   0.0  0.0   \n",
       "3         0.0              3.0   0.0   ...                  13.0   0.0  0.0   \n",
       "4         0.0              0.0   0.0   ...                   6.0   0.0  0.0   \n",
       "\n",
       "   Lenovo  Motorola  Quantum  Samsung  Sony  iPad  iPhone  \n",
       "0     0.0       0.0      0.0     11.0   1.0   0.0    11.0  \n",
       "1     0.0       0.0      0.0      0.0   0.0   0.0     0.0  \n",
       "2     0.0       0.0      0.0     14.0   0.0   0.0    18.0  \n",
       "3     6.0       5.0      0.0     10.0   3.0   0.0     0.0  \n",
       "4     0.0       0.0      0.0     11.0   0.0   0.0     0.0  \n",
       "\n",
       "[5 rows x 39 columns]"
      ]
     },
     "execution_count": 9,
     "metadata": {},
     "output_type": "execute_result"
    }
   ],
   "source": [
    "train = train_entrenamiento.drop('label', 1)\n",
    "train.head()"
   ]
  },
  {
   "cell_type": "code",
   "execution_count": 10,
   "metadata": {},
   "outputs": [
    {
     "data": {
      "text/plain": [
       "0    0\n",
       "1    0\n",
       "2    0\n",
       "3    0\n",
       "4    0\n",
       "Name: label, dtype: int64"
      ]
     },
     "execution_count": 10,
     "metadata": {},
     "output_type": "execute_result"
    }
   ],
   "source": [
    "trainlabel = train_entrenamiento['label']\n",
    "trainlabel.head()"
   ]
  },
  {
   "cell_type": "code",
   "execution_count": 11,
   "metadata": {},
   "outputs": [],
   "source": [
    "n = 500\n",
    "knn = KNeighborsRegressor(n_neighbors = n)"
   ]
  },
  {
   "cell_type": "code",
   "execution_count": 30,
   "metadata": {},
   "outputs": [],
   "source": [
    "parameters_for_testing = {\n",
    "    'n_neighbors':[110,150,200,250],\n",
    "}"
   ]
  },
  {
   "cell_type": "code",
   "execution_count": 31,
   "metadata": {},
   "outputs": [
    {
     "name": "stdout",
     "output_type": "stream",
     "text": [
      "Fitting 3 folds for each of 4 candidates, totalling 12 fits\n",
      "[CV] n_neighbors=110 .................................................\n",
      "[CV] n_neighbors=110 .................................................\n",
      "[CV] n_neighbors=110 .................................................\n",
      "[CV] n_neighbors=150 .................................................\n",
      "[CV] n_neighbors=150 .................................................\n",
      "[CV] n_neighbors=150 .................................................\n",
      "[CV] ........................ n_neighbors=110, score=0.733171 -   3.9s\n",
      "[CV] n_neighbors=200 .................................................\n",
      "[CV] ........................ n_neighbors=110, score=0.737038 -   3.9s\n",
      "[CV] n_neighbors=200 .................................................\n"
     ]
    },
    {
     "name": "stderr",
     "output_type": "stream",
     "text": [
      "[Parallel(n_jobs=6)]: Done   1 tasks      | elapsed:    3.9s\n"
     ]
    },
    {
     "name": "stdout",
     "output_type": "stream",
     "text": [
      "[CV] ........................ n_neighbors=110, score=0.722322 -   4.5s\n",
      "[CV] n_neighbors=200 .................................................\n"
     ]
    },
    {
     "name": "stderr",
     "output_type": "stream",
     "text": [
      "[Parallel(n_jobs=6)]: Done   3 out of  12 | elapsed:    4.5s remaining:   13.6s\n"
     ]
    },
    {
     "name": "stdout",
     "output_type": "stream",
     "text": [
      "[CV] ........................ n_neighbors=150, score=0.730589 -   4.7s\n",
      "[CV] ........................ n_neighbors=150, score=0.735156 -   4.7s\n",
      "[CV] n_neighbors=250 .................................................\n",
      "[CV] n_neighbors=250 .................................................\n"
     ]
    },
    {
     "name": "stderr",
     "output_type": "stream",
     "text": [
      "[Parallel(n_jobs=6)]: Done   5 out of  12 | elapsed:    4.8s remaining:    6.8s\n"
     ]
    },
    {
     "name": "stdout",
     "output_type": "stream",
     "text": [
      "[CV] ........................ n_neighbors=150, score=0.733995 -   4.9s\n",
      "[CV] n_neighbors=250 .................................................\n",
      "[CV] ........................ n_neighbors=200, score=0.729697 -   4.5s\n"
     ]
    },
    {
     "name": "stderr",
     "output_type": "stream",
     "text": [
      "[Parallel(n_jobs=6)]: Done   7 out of  12 | elapsed:    8.5s remaining:    6.0s\n"
     ]
    },
    {
     "name": "stdout",
     "output_type": "stream",
     "text": [
      "[CV] ........................ n_neighbors=200, score=0.728822 -   4.4s\n",
      "[CV] ........................ n_neighbors=200, score=0.730981 -   4.9s\n"
     ]
    },
    {
     "name": "stderr",
     "output_type": "stream",
     "text": [
      "[Parallel(n_jobs=6)]: Done   9 out of  12 | elapsed:    9.0s remaining:    3.0s\n"
     ]
    },
    {
     "name": "stdout",
     "output_type": "stream",
     "text": [
      "[CV] ........................ n_neighbors=250, score=0.731261 -   4.6s\n",
      "[CV] ........................ n_neighbors=250, score=0.728367 -   4.8s\n",
      "[CV] ........................ n_neighbors=250, score=0.729728 -   4.7s\n"
     ]
    },
    {
     "name": "stderr",
     "output_type": "stream",
     "text": [
      "[Parallel(n_jobs=6)]: Done  12 out of  12 | elapsed:    9.8s finished\n"
     ]
    },
    {
     "name": "stdout",
     "output_type": "stream",
     "text": [
      "[mean: 0.73084, std: 0.00623, params: {'n_neighbors': 110}, mean: 0.73325, std: 0.00194, params: {'n_neighbors': 150}, mean: 0.72983, std: 0.00089, params: {'n_neighbors': 200}, mean: 0.72979, std: 0.00118, params: {'n_neighbors': 250}]\n",
      "best params\n",
      "{'n_neighbors': 150}\n",
      "best score\n",
      "0.7332465780429039\n"
     ]
    }
   ],
   "source": [
    "gsearch1 = GridSearchCV(estimator = knn, param_grid = parameters_for_testing,\\\n",
    "                       n_jobs=6,iid=False, verbose=10,scoring='roc_auc')\n",
    "gsearch1.fit(train,trainlabel)\n",
    "print (gsearch1.grid_scores_)\n",
    "print('best params')\n",
    "print (gsearch1.best_params_)\n",
    "print('best score')\n",
    "print (gsearch1.best_score_)"
   ]
  },
  {
   "cell_type": "code",
   "execution_count": 22,
   "metadata": {},
   "outputs": [
    {
     "data": {
      "text/plain": [
       "KNeighborsRegressor(algorithm='auto', leaf_size=30, metric='minkowski',\n",
       "          metric_params=None, n_jobs=1, n_neighbors=600, p=2,\n",
       "          weights='uniform')"
      ]
     },
     "execution_count": 22,
     "metadata": {},
     "output_type": "execute_result"
    }
   ],
   "source": [
    "n = 600\n",
    "knn = KNeighborsRegressor(n_neighbors = n)\n",
    "knn.fit(train, trainlabel)"
   ]
  },
  {
   "cell_type": "code",
   "execution_count": 23,
   "metadata": {},
   "outputs": [],
   "source": [
    "#hash\n",
    "#Transformo texto a numeros\n",
    "test_entrenamiento['most_frequent_event'] = test_entrenamiento.apply(lambda row:  hash(row['most_frequent_event'])\\\n",
    "                        if not(pd.isnull(row['most_frequent_event'])) else np.nan, axis = 1)\n",
    "test_entrenamiento['less_frequent_event'] = test_entrenamiento.apply(lambda row:  hash(row['less_frequent_event'])\\\n",
    "                        if not(pd.isnull(row['less_frequent_event'])) else np.nan, axis = 1)"
   ]
  },
  {
   "cell_type": "code",
   "execution_count": 24,
   "metadata": {},
   "outputs": [],
   "source": [
    "# def normalize(df):\n",
    "#     result = df.copy()\n",
    "#     for feature_name in df.columns:\n",
    "#         max_value = df[feature_name].max()\n",
    "#         min_value = df[feature_name].min()\n",
    "#         result[feature_name] = (df[feature_name] - min_value) / (max_value - min_value)\n",
    "#     return result\n",
    "\n",
    "# test_entrenamiento=normalize(test_entrenamiento)\n",
    "# test_entrenamiento.head()"
   ]
  },
  {
   "cell_type": "code",
   "execution_count": 25,
   "metadata": {},
   "outputs": [],
   "source": [
    "testData_sinId = test_entrenamiento"
   ]
  },
  {
   "cell_type": "code",
   "execution_count": 26,
   "metadata": {},
   "outputs": [],
   "source": [
    "prediction = knn.predict(testData_sinId)"
   ]
  },
  {
   "cell_type": "code",
   "execution_count": 27,
   "metadata": {},
   "outputs": [
    {
     "data": {
      "text/html": [
       "<div>\n",
       "<style scoped>\n",
       "    .dataframe tbody tr th:only-of-type {\n",
       "        vertical-align: middle;\n",
       "    }\n",
       "\n",
       "    .dataframe tbody tr th {\n",
       "        vertical-align: top;\n",
       "    }\n",
       "\n",
       "    .dataframe thead th {\n",
       "        text-align: right;\n",
       "    }\n",
       "</style>\n",
       "<table border=\"1\" class=\"dataframe\">\n",
       "  <thead>\n",
       "    <tr style=\"text-align: right;\">\n",
       "      <th></th>\n",
       "      <th>person</th>\n",
       "    </tr>\n",
       "  </thead>\n",
       "  <tbody>\n",
       "    <tr>\n",
       "      <th>0</th>\n",
       "      <td>4886f805</td>\n",
       "    </tr>\n",
       "    <tr>\n",
       "      <th>1</th>\n",
       "      <td>0297fc1e</td>\n",
       "    </tr>\n",
       "    <tr>\n",
       "      <th>2</th>\n",
       "      <td>2d681dd8</td>\n",
       "    </tr>\n",
       "    <tr>\n",
       "      <th>3</th>\n",
       "      <td>cccea85e</td>\n",
       "    </tr>\n",
       "    <tr>\n",
       "      <th>4</th>\n",
       "      <td>4c8a8b93</td>\n",
       "    </tr>\n",
       "  </tbody>\n",
       "</table>\n",
       "</div>"
      ],
      "text/plain": [
       "     person\n",
       "0  4886f805\n",
       "1  0297fc1e\n",
       "2  2d681dd8\n",
       "3  cccea85e\n",
       "4  4c8a8b93"
      ]
     },
     "execution_count": 27,
     "metadata": {},
     "output_type": "execute_result"
    }
   ],
   "source": [
    "ids = test['person'].values\n",
    "dataKaggle = pd.DataFrame(ids ,columns={'person'})\n",
    "dataKaggle.head(5)"
   ]
  },
  {
   "cell_type": "code",
   "execution_count": 28,
   "metadata": {},
   "outputs": [
    {
     "data": {
      "text/html": [
       "<div>\n",
       "<style scoped>\n",
       "    .dataframe tbody tr th:only-of-type {\n",
       "        vertical-align: middle;\n",
       "    }\n",
       "\n",
       "    .dataframe tbody tr th {\n",
       "        vertical-align: top;\n",
       "    }\n",
       "\n",
       "    .dataframe thead th {\n",
       "        text-align: right;\n",
       "    }\n",
       "</style>\n",
       "<table border=\"1\" class=\"dataframe\">\n",
       "  <thead>\n",
       "    <tr style=\"text-align: right;\">\n",
       "      <th></th>\n",
       "      <th>person</th>\n",
       "      <th>label</th>\n",
       "    </tr>\n",
       "  </thead>\n",
       "  <tbody>\n",
       "    <tr>\n",
       "      <th>0</th>\n",
       "      <td>4886f805</td>\n",
       "      <td>0.028333</td>\n",
       "    </tr>\n",
       "    <tr>\n",
       "      <th>1</th>\n",
       "      <td>0297fc1e</td>\n",
       "      <td>0.046667</td>\n",
       "    </tr>\n",
       "    <tr>\n",
       "      <th>2</th>\n",
       "      <td>2d681dd8</td>\n",
       "      <td>0.041667</td>\n",
       "    </tr>\n",
       "    <tr>\n",
       "      <th>3</th>\n",
       "      <td>cccea85e</td>\n",
       "      <td>0.028333</td>\n",
       "    </tr>\n",
       "    <tr>\n",
       "      <th>4</th>\n",
       "      <td>4c8a8b93</td>\n",
       "      <td>0.028333</td>\n",
       "    </tr>\n",
       "  </tbody>\n",
       "</table>\n",
       "</div>"
      ],
      "text/plain": [
       "     person     label\n",
       "0  4886f805  0.028333\n",
       "1  0297fc1e  0.046667\n",
       "2  2d681dd8  0.041667\n",
       "3  cccea85e  0.028333\n",
       "4  4c8a8b93  0.028333"
      ]
     },
     "execution_count": 28,
     "metadata": {},
     "output_type": "execute_result"
    }
   ],
   "source": [
    "#Aca agregamos una columna que seria se postulop\n",
    "dataKaggle['label'] = prediction\n",
    "dataKaggle.head()"
   ]
  },
  {
   "cell_type": "code",
   "execution_count": null,
   "metadata": {},
   "outputs": [],
   "source": []
  },
  {
   "cell_type": "code",
   "execution_count": 29,
   "metadata": {},
   "outputs": [],
   "source": [
    "dataKaggle.to_csv(\"predictionKnn.csv\", index = False)"
   ]
  },
  {
   "cell_type": "code",
   "execution_count": null,
   "metadata": {},
   "outputs": [],
   "source": []
  }
 ],
 "metadata": {
  "kernelspec": {
   "display_name": "Python 3",
   "language": "python",
   "name": "python3"
  },
  "language_info": {
   "codemirror_mode": {
    "name": "ipython",
    "version": 3
   },
   "file_extension": ".py",
   "mimetype": "text/x-python",
   "name": "python",
   "nbconvert_exporter": "python",
   "pygments_lexer": "ipython3",
   "version": "3.6.5"
  }
 },
 "nbformat": 4,
 "nbformat_minor": 2
}
